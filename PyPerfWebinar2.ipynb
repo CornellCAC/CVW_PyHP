{
 "cells": [
  {
   "cell_type": "code",
   "execution_count": 1,
   "metadata": {
    "slideshow": {
     "slide_type": "-"
    }
   },
   "outputs": [],
   "source": [
    "# Prelude\n",
    "\n",
    "# Just a little Jupyter hacking to allow code snippets to proceed without exceptions\n",
    "\n",
    "from IPython.core.magic import register_cell_magic\n",
    "\n",
    "@register_cell_magic('code_for_illustration')\n",
    "def code_for_illustration(line, cell):\n",
    "    try:\n",
    "        exec(cell)\n",
    "    except Exception as e:\n",
    "        print(\"Code snippet for illustration only\")\n",
    "        \n",
    "@register_cell_magic('do_not_run_in_jupyter')\n",
    "def do_not_run_in_jupyter(line, cell):\n",
    "    return"
   ]
  },
  {
   "cell_type": "markdown",
   "metadata": {
    "slideshow": {
     "slide_type": "slide"
    }
   },
   "source": [
    "# XSEDE Webinar: Python and Performance\n",
    "\n",
    "<b>Chris Myers &nbsp;&nbsp; ( c.myers @ cornell.edu )<br />\n",
    "    <br />\n",
    "Center for Advanced Computing (CAC)&nbsp;&nbsp;  & &nbsp;&nbsp; Department of Physics<br />\n",
    "    <br />\n",
    "Cornell University<br />\n",
    "</b>\n",
    "\n",
    "<hr />\n",
    "\n",
    "These slides are available as a Jupyter notebook in a github repository at https://github.com/CornellCAC/CVW_PyHP (in the notebook file named PyPerfWebinar2.ipynb).\n",
    "\n",
    "This webinar is intended as an overview and complement to the Cornell Virtual Workshop (CVW) tutorial on \"Python for High Performance\", at https://cvw.cac.cornell.edu/python .  \n",
    "\n",
    "<table style=\"float:left\"><tr>\n",
    "    <td><img src=\"images/cornell_seal_simple_b31b1b.png\" width=\"200\"/></td>\n",
    "    <td>                      </td>\n",
    "    <td><img src=\"images/XSEDE_Logo_Blue.png\" width=\"400\"/></td>\n",
    "    </tr></table>"
   ]
  },
  {
   "cell_type": "markdown",
   "metadata": {
    "slideshow": {
     "slide_type": "slide"
    }
   },
   "source": [
    "# Code of Conduct\n",
    "\n",
    "XSEDE has an external code of conduct which represents our commitment to providing an inclusive and harassment-free environment in all interactions regardless of race, age, ethnicity, national origin, language, gender, gender identity, sexual orientation, disability, physical appearance, political views, military service, health status, or religion. The code of conduct extends to all XSEDE-sponsored events, services, and interactions.\n",
    "\n",
    "Code of Conduct: https://www.xsede.org/codeofconduct \n",
    "\n",
    "Contact:\n",
    "* Event organizer: Susan Mehringer, CAC (shm7@cornell.edu) \n",
    "* XSEDE ombudspersons:\n",
    "    * Linda Akli, Southeastern Universities Research Association (akli@sura.org)\n",
    "    * Lizanne Destefano, Georgia Tech (lizanne.destefano@ceismc.gatech.edu)\n",
    "    * Ken Hackworth, Pittsburgh Supercomputing Center (hackworth@psc.edu)\n",
    "    * Bryan Snead, Texas Advanced Computing Center (jbsnead@tacc.utexas.edu)\n",
    "* Anonymous reporting form available at https://www.xsede.org/codeofconduct\n",
    "\n",
    "\n"
   ]
  },
  {
   "cell_type": "markdown",
   "metadata": {
    "slideshow": {
     "slide_type": "slide"
    }
   },
   "source": [
    "# Introduction\n",
    "\n",
    "* Python is interpreted (i.e., executed in an interpreter)\n",
    "* Compiled programs (e.g., C/C++, Fortran) generally run faster than interpreted programs\n",
    "* Interpreted languages are often better for rapid prototyping and high-level program control\n",
    "* Optimizing \"time to science\" might suggest prioritizing program development time over computational run time (or maybe vice versa)\n",
    "* <b>How should we best use Python for applications that require numerically intensive computations?</b>\n",
    "* <b>Can we have the best of both worlds (expressiveness and performance)?</b>\n",
    "* <b>If there are tradeoffs, where are they and how can they be mitigated?</b>\n",
    "* As with most things in Python, there is no one answer, and the landscape is constantly changing..."
   ]
  },
  {
   "cell_type": "markdown",
   "metadata": {
    "slideshow": {
     "slide_type": "slide"
    }
   },
   "source": [
    "# CPython \n",
    "\n",
    "* CPython: the reference implementation of the language, and the most widely used interpreter\n",
    "    * generally installed as \"python\"\n",
    "* Alternative implementations/interpreters exist (e.g., IronPython, Jython, PyPy) &mdash; we will not consider these here\n",
    "* IPython & Jupyter kernel are thin layers on top of CPython to provide additional functionality \n",
    "    * but typically use <code>python myprogram.py</code> for long-running programs in batch\n",
    "* CPython compiles Python source code to bytecodes, and then operates on those"
   ]
  },
  {
   "cell_type": "markdown",
   "metadata": {
    "slideshow": {
     "slide_type": "slide"
    }
   },
   "source": [
    "# Python/C API and extension modules\n",
    "\n",
    "* CPython, written in C, is accompanied by an Application Programming Interface (API) that enables communication between Python and C (and thus to basically any other language)\n",
    "* Python/C API allows for compiled chunks of code to be called from Python or executed within the CPython interpreter &rarr; <b>extension modules</b>\n",
    "* Compiled shared object library (.so, .dll, etc.) is accessed through Python/C API\n",
    "    * compiled code executes operations of interest\n",
    "    * wrapper/interface code consists of calls to Python/C API and underlying compiled code\n",
    "* Can be imported into python interpreter just as pure Python source code can\n",
    "* Much core functionality of the Python language and standard library are written in C"
   ]
  },
  {
   "cell_type": "markdown",
   "metadata": {
    "slideshow": {
     "slide_type": "slide"
    }
   },
   "source": [
    "# Hybrid Codes\n",
    "\n",
    "It is often advantageous to blend high-level languages for control with low-level languages for performance.  Overall performance depends on the granularity of computations in compiled code and the overhead required to communicate between languages.\n",
    "\n",
    "![Hybrid Codes](images/PyCompiled4.png)\n",
    "\n",
    "There are many different tools that support the interleaving of Python and compiled extension modules."
   ]
  },
  {
   "cell_type": "markdown",
   "metadata": {
    "slideshow": {
     "slide_type": "slide"
    }
   },
   "source": [
    "# Outline\n",
    "\n",
    "* Introduction\n",
    "* Three main strategies for improved performance\n",
    "    * More compiled code\n",
    "    * Parallel processing\n",
    "    * Faster native Python\n",
    "* Performance assessment\n",
    "* Supplementary material\n",
    "\n",
    "<center><img src=\"images/PyAxes.png\" /></center>"
   ]
  },
  {
   "cell_type": "markdown",
   "metadata": {
    "slideshow": {
     "slide_type": "slide"
    }
   },
   "source": [
    "# More compiled code\n",
    "\n",
    "* Compiled third-party libraries\n",
    "* Compiling custom code\n",
    "\n",
    "\n",
    "<center><img src=\"images/PyMoreCompiled.png\" /></center>"
   ]
  },
  {
   "cell_type": "markdown",
   "metadata": {
    "slideshow": {
     "slide_type": "slide"
    }
   },
   "source": [
    "# Third-Party Libraries for Numerical & Scientific Computing\n",
    "#### a.k.a. The Python Scientific Computing Ecosystem\n",
    "\n",
    "* Most specific functionality for scientific computing is provided by third-party libraries, which are typically a mix of Python code and compiled extension modules\n",
    "    * <b>NumPy</b>: multi-dimensional arrays, linear algebra, random numbers\n",
    "    * <b>SciPy</b>: routines for integration, optimization, root-finding, interpolation, etc.\n",
    "    * <b>Pandas</b>: Series and Dataframes for tabular data and statistics (e.g., from spreadsheets)\n",
    "    * <b>Scikit-learn, TensorFlow, Caffe, PyTorch, Keras</b>: machine learning\n",
    "    * <b>Matplotlib, Seaborn, Bokeh</b>: plotting\n",
    "    * <b>NetworkX</b>: networks\n",
    "    * etc.\n",
    "* Bundled distributions (e.g., Anaconda) contain many of these, with tools for installing additional packages"
   ]
  },
  {
   "cell_type": "markdown",
   "metadata": {
    "slideshow": {
     "slide_type": "slide"
    }
   },
   "source": [
    "# NumPy\n",
    "\n",
    "* NumPy = \"Numerical Python\", the cornerstone of the scientific computing ecosystem for Python\n",
    "* largely written in C, with links to BLAS and LAPACK libraries for linear algebra\n",
    "* provides multidimensional arrays and array-level operations (a form of vectorization)\n",
    "\n",
    "\n",
    "\n",
    "* <b>conventional wisdom</b>: avoid loops in Python and use array syntax\n",
    "* <b>a challenge</b>: figuring out how to express complex operations solely using array syntax\n",
    "    * including indexing, slicing, and broadcasting\n",
    "* <b>a caveat</b>: convenient syntax can disguise performance inefficiencies (e.g., temporary arrays)"
   ]
  },
  {
   "cell_type": "markdown",
   "metadata": {
    "slideshow": {
     "slide_type": "slide"
    }
   },
   "source": [
    "# Array operations\n",
    "\n",
    "#### Aggregated operations over arrays"
   ]
  },
  {
   "cell_type": "code",
   "execution_count": 2,
   "metadata": {},
   "outputs": [],
   "source": [
    "import numpy as np\n",
    "a = np.random.random((1000,1000))\n",
    "b = np.random.random((1000,1000))\n",
    "\n",
    "log_a = np.log(a)  # an example of a \"universal function\" (ufunc) -- operates on scalars and arrays\n",
    "\n",
    "c = a + b    # throws ValueError if a and b not the same shape"
   ]
  },
  {
   "cell_type": "markdown",
   "metadata": {},
   "source": [
    "<center><img src=\"images/PyCompiled2b.png\" /></center>"
   ]
  },
  {
   "cell_type": "markdown",
   "metadata": {
    "slideshow": {
     "slide_type": "slide"
    }
   },
   "source": [
    "#### The challenge of more complex operations"
   ]
  },
  {
   "cell_type": "code",
   "execution_count": 3,
   "metadata": {},
   "outputs": [],
   "source": [
    "# numpy multiplicative outer product\n",
    "\n",
    "def outer(a,b):\n",
    "    multiply(a.ravel()[:, newaxis], b.ravel()[newaxis, :], out)"
   ]
  },
  {
   "cell_type": "markdown",
   "metadata": {},
   "source": [
    "#### The caveat of array temporaries"
   ]
  },
  {
   "cell_type": "code",
   "execution_count": 4,
   "metadata": {},
   "outputs": [],
   "source": [
    "# The problem of temporary array creation\n",
    "\n",
    "d = a + 2*b + 3*c\n",
    "\n",
    "# temporaries: 3*c, 2*b, (2*b)+(3*c), a + ((2*b) + (3*c))"
   ]
  },
  {
   "cell_type": "markdown",
   "metadata": {
    "slideshow": {
     "slide_type": "slide"
    }
   },
   "source": [
    "# NumPy and optimized libraries\n",
    "\n",
    "* NumPy performance can be enhanced if linked to optimized libraries\n",
    "    * ```numpy.__config__.show()``` to list what BLAS, LAPACK libraries numpy is linked to\n",
    "* Intel MKL (Math Kernel Library) for Intel processors &mdash; bundled with Anaconda Python distribution\n",
    "* also, OpenBLAS and ATLAS\n",
    "* On multi-core architectures, NumPy linear algebra operations using BLAS & LAPACK can leverage thread-based parallelism for free by setting environment variables appropriate for processor\n",
    "    * ```MKL_NUM_THREADS = N```        # if using MKL\n",
    "    * ```OMP_NUM_THREADS = N```        # if libraries support OpenMP"
   ]
  },
  {
   "cell_type": "markdown",
   "metadata": {
    "slideshow": {
     "slide_type": "slide"
    }
   },
   "source": [
    "# SciPy\n",
    "\n",
    "* SciPy = \"Scientific Python\"\n",
    "* sits on top of NumPy, wrapping many C and Fortran numerical routines, with convenient Python interface\n",
    "* routines for integration, optimization, root-finding, interpolation, fitting, etc.\n",
    "* Python callbacks enable ease-of-use, but with some performance penalty\n",
    "\n",
    "<center><img src=\"images/PyCallable2b.png\" /></center>"
   ]
  },
  {
   "cell_type": "markdown",
   "metadata": {
    "slideshow": {
     "slide_type": "slide"
    }
   },
   "source": [
    "# Compiling Custom Code\n",
    "\n",
    "* Compilation frameworks\n",
    "    * Numba and Cython\n",
    "    * internal code generation for deep learning neural networks: Tensorflow, PyTorch, etc.\n",
    "* Wrapper and interface generators\n"
   ]
  },
  {
   "cell_type": "markdown",
   "metadata": {
    "slideshow": {
     "slide_type": "slide"
    }
   },
   "source": [
    "# Numba\n",
    "\n",
    "* a just-in-time (JIT) compiler that compiles a subset of Python and NumPy source to machine code for execution in CPython\n",
    "* uses LLVM to convert Python bytecodes to intermediate representation (IR), and generates optimized C code from that\n",
    "* can be configured in more detail, but some performance improvements simply via addition of @jit decorator\n",
    "* multicore parallelism easily supported through options to decorators\n",
    "* Nice tutorial at SciPy 2017 by Gil Forsyth & Lorena Barba ( https://www.youtube.com/watch?v=1AwG0T4gaO0 )"
   ]
  },
  {
   "cell_type": "markdown",
   "metadata": {
    "slideshow": {
     "slide_type": "slide"
    }
   },
   "source": [
    "# Upending the conventional wisdom via compilation"
   ]
  },
  {
   "cell_type": "code",
   "execution_count": 5,
   "metadata": {},
   "outputs": [],
   "source": [
    "import numpy as np\n",
    "from numba import jit\n",
    "\n",
    "X, Y, Z = np.random.random((3,1000,1000))\n",
    "\n",
    "def f1(x,y,z):\n",
    "    return x + 2*y + 3*z\n",
    "\n",
    "def f2(x,y,z):\n",
    "    result = np.empty_like(x)\n",
    "    for i in range(x.shape[0]):\n",
    "        for j in range(x.shape[1]):\n",
    "            result[i,j] = x[i,j] + 2*y[i,j] + 3*z[i,j]\n",
    "    return result\n",
    "\n",
    "@jit\n",
    "def f3(x,y,z):\n",
    "    result = np.empty_like(x)\n",
    "    for i in range(x.shape[0]):\n",
    "        for j in range(x.shape[1]):\n",
    "            result[i,j] = x[i,j] + 2*y[i,j] + 3*z[i,j]\n",
    "    return result\n",
    "\n",
    "@jit\n",
    "def f4(x,y,z):\n",
    "    return x + 2*y + 3*z\n",
    "\n",
    "r1 = f1(X,Y,Z); r2 = f2(X,Y,Z); r3 = f3(X,Y,Z); r4 = f4(X,Y,Z)"
   ]
  },
  {
   "cell_type": "code",
   "execution_count": 6,
   "metadata": {},
   "outputs": [
    {
     "name": "stdout",
     "output_type": "stream",
     "text": [
      "3.68 ms ± 335 µs per loop (mean ± std. dev. of 7 runs, 100 loops each)\n",
      "1.19 s ± 21.7 ms per loop (mean ± std. dev. of 7 runs, 1 loop each)\n",
      "1.92 ms ± 70.7 µs per loop (mean ± std. dev. of 7 runs, 1000 loops each)\n",
      "2.74 ms ± 21.7 µs per loop (mean ± std. dev. of 7 runs, 100 loops each)\n"
     ]
    }
   ],
   "source": [
    "%timeit f1(X,Y,Z)\n",
    "%timeit f2(X,Y,Z)\n",
    "%timeit f3(X,Y,Z)\n",
    "%timeit f4(X,Y,Z)"
   ]
  },
  {
   "cell_type": "markdown",
   "metadata": {
    "slideshow": {
     "slide_type": "slide"
    }
   },
   "source": [
    "# Cython\n",
    "\n",
    "* a C-like superset of the Python language that adds capabilities for type declarations\n",
    "* a system for converting chunks of Python/Cython code into C for compilation and execution within CPython\n",
    "\n",
    "\n",
    "* can be used to compile extension modules ahead of time, or for on-the-fly compilation using IPython magic functions (%%cython)\n",
    "* mature technology used by many packages in Python ecosystem to optimize particular functionality (NumPy, Pandas, Scikit-learn, etc.)\n",
    "* provides support for OpenMP-based parallelism through the cython.parallel module\n",
    "* Nice tutorial at SciPy 2015 by Kurt Smith ( https://www.youtube.com/watch?v=gMvkiQ-gOW8 )"
   ]
  },
  {
   "cell_type": "markdown",
   "metadata": {
    "slideshow": {
     "slide_type": "slide"
    }
   },
   "source": [
    "## Wrapper and Interface Generators\n",
    "\n",
    "Useful if you have an existing code base (C/C++, Fortran, etc.) that you would like to be able to call from Python\n",
    "\n",
    "Typically a multi-step process:\n",
    "* Function and class declarations &rarr; Python/C API code generation (wrapper code)\n",
    "* Wrapper code compiled and linked with underlying library &rarr; <b>.so file</b>\n",
    "* Possibly some additional Python code generated"
   ]
  },
  {
   "cell_type": "markdown",
   "metadata": {
    "slideshow": {
     "slide_type": "slide"
    }
   },
   "source": [
    "## Wrapper and Interface Generators\n",
    "\n",
    "\n",
    "Some of the many packages available:\n",
    "* <b>CFFI</b> and <b>ctypes</b> provide \\\"foreign function interfaces\\\", or lightweight APIs, for calling C libraries from within Python\n",
    "* <b>Boost.python</b> helps write C++ libraries that Python can import\n",
    "* <b>SWIG</b> reads C and C++ header files and generates a library than Python (or many other scripting languages) can import\n",
    "* <b>F2PY</b> reads Fortran code and generates a library that Python can import\n",
    "* <b>PyCUDA</b> and PyOpenCL provide access within Python to GPUs"
   ]
  },
  {
   "cell_type": "markdown",
   "metadata": {
    "slideshow": {
     "slide_type": "slide"
    }
   },
   "source": [
    "# Parallel Processing\n",
    "\n",
    "* Parallelization: across threads, across cores, across processors\n",
    "    * ...to reduce wallclock time to solution\n",
    "    * ...to solve bigger problems that don't fit in a single processor\n",
    "* CPython uses a Global Interpreter Lock (GIL): only one thread can run at a time\n",
    "* GIL does not apply to multithreaded code in compiled library (e.g., MKL) or non-blocking I/O\n",
    "* Multiple Python processes can run concurrently (each with their own GIL)\n",
    "* (and new development is taking place to enable multiple interpreters within a single process)\n",
    "\n",
    "<center><img src=\"images/PyParallel.png\" /></center>\n"
   ]
  },
  {
   "cell_type": "markdown",
   "metadata": {
    "slideshow": {
     "slide_type": "slide"
    }
   },
   "source": [
    "# Multiprocessing and concurrent.futures modules\n",
    "\n",
    "* control of multiple processes and communication between them\n",
    "* useful for multiprocessing within a multi-core, shared memory processor"
   ]
  },
  {
   "cell_type": "code",
   "execution_count": 7,
   "metadata": {},
   "outputs": [],
   "source": [
    "%%do_not_run_in_jupyter  # Jupyter and multiprocessing do not work well together\n",
    "\n",
    "from multiprocessing import Pool\n",
    "\n",
    "def f(x):\n",
    "    return x*x\n",
    "\n",
    "with Pool(4) as p:\n",
    "    print(p.map(f, range(100))"
   ]
  },
  {
   "cell_type": "markdown",
   "metadata": {
    "slideshow": {
     "slide_type": "slide"
    }
   },
   "source": [
    "# Message passing with mpi4py\n",
    "\n",
    "* MPI = \"Message Passing Interface\" &mdash; a widely-used standard for parallel processing \n",
    "* Many Python wrappers to MPI developed over the years; mpi4py is probably most widely used at this time\n",
    "* use ```mpiexec``` or ```ibrun``` in shell to run a python program over multiple processors\n",
    "    * e.g., ```ibrun python myprogram.py``` on Stampede2 at TACC"
   ]
  },
  {
   "cell_type": "markdown",
   "metadata": {
    "slideshow": {
     "slide_type": "slide"
    }
   },
   "source": [
    "## mpi4py"
   ]
  },
  {
   "cell_type": "code",
   "execution_count": 8,
   "metadata": {},
   "outputs": [
    {
     "name": "stdout",
     "output_type": "stream",
     "text": [
      "rank 0\n",
      "size 1\n",
      "data2 = [0. 0. 0. 0. 0. 0. 0. 0. 0. 0.]\n",
      "data2 = [0. 1. 2. 3. 4. 5. 6. 7. 8. 9.]\n"
     ]
    }
   ],
   "source": [
    "# Typical MPI fare: communicators, ranks, sends, receives, etc.\n",
    "\n",
    "from mpi4py import MPI\n",
    "comm = MPI.COMM_WORLD\n",
    "print('rank', comm.Get_rank())\n",
    "print('size', comm.Get_size())\n",
    "\n",
    "import numpy as np\n",
    "data = np.arange(10, dtype=np.float64)\n",
    "data2 = np.zeros(10, dtype=np.float64)\n",
    "print('data2 =', data2)\n",
    "\n",
    "comm.Isend(data, dest=0, tag=20)\n",
    "comm.Recv(data2, source=0, tag=20)\n",
    "print('data2 =', data2)"
   ]
  },
  {
   "cell_type": "markdown",
   "metadata": {
    "slideshow": {
     "slide_type": "slide"
    }
   },
   "source": [
    "# Exercise: Estimating $\\pi$ via Monte Carlo using mpi4py\n",
    "\n",
    "[Exercise in CVW on \"Python for High Performance\"](https://cvw.cac.cornell.edu/python/exercise)\n",
    "\n",
    "<center><img src=\"images/throwingdarts.png\" width=\"600\"></center>"
   ]
  },
  {
   "cell_type": "markdown",
   "metadata": {
    "slideshow": {
     "slide_type": "slide"
    }
   },
   "source": [
    "## Some Other Parallel Tools\n",
    "\n",
    "* <b>Dask</b>\n",
    "    * distributed NumPy arrays and Pandas DataFrames\n",
    "    * task scheduling interface for custom workflows\n",
    "* <b>Joblib</b>\n",
    "    * lightweight pipelining with support for parallel processing\n",
    "    * specific optimizations for NumPy arrays\n",
    "* <b>ipyparallel</b>\n",
    "    * parallel and distributed computing within IPython\n",
    "* <b>pymp</b>\n",
    "    * \"brings OpenMP-like functionality to Python\"\n",
    "* <b>asyncio</b>\n",
    "    * \"library to write concurrent code using the async/await syntax\"\n",
    "    * well-suited for IO-bound and networking code"
   ]
  },
  {
   "cell_type": "markdown",
   "metadata": {
    "slideshow": {
     "slide_type": "slide"
    }
   },
   "source": [
    "# Faster Native Python\n",
    "\n",
    "\n",
    "<center><img src=\"images/PyFaster.png\" /></center>\n",
    "\n",
    "* Collections and containers: the right data structure for the job\n",
    "* Lazy evaluation\n",
    "* Memory management\n",
    "\n",
    "\n",
    "* More details in the supplementary material below and at <a href=\"https://cvw.cac.cornell.edu/python/faster\">https://cvw.cac.cornell.edu/python/faster</a>\n"
   ]
  },
  {
   "cell_type": "markdown",
   "metadata": {
    "slideshow": {
     "slide_type": "slide"
    }
   },
   "source": [
    "## Collections and containers\n",
    "\n",
    "Use the right data structure for the job\n",
    "\n",
    "For example, numerical performance of membership testing for sets and lists containing the same data can be very different:\n",
    "    * sets ~ O(1)\n",
    "    * lists ~ O(N)"
   ]
  },
  {
   "cell_type": "code",
   "execution_count": 9,
   "metadata": {},
   "outputs": [
    {
     "name": "stdout",
     "output_type": "stream",
     "text": [
      "42.1 ns ± 0.912 ns per loop (mean ± std. dev. of 7 runs, 10000000 loops each)\n",
      "104 µs ± 1.56 µs per loop (mean ± std. dev. of 7 runs, 10000 loops each)\n"
     ]
    }
   ],
   "source": [
    "set1  = set(range(0,10000))\n",
    "list1 = list(range(0,10000))\n",
    "\n",
    "%timeit 9800 in set1\n",
    "\n",
    "%timeit 9800 in list1"
   ]
  },
  {
   "cell_type": "markdown",
   "metadata": {
    "slideshow": {
     "slide_type": "slide"
    }
   },
   "source": [
    "# Performance Assessment\n",
    "\n",
    "* Algorithms and computational architectures are complex: be empirical about performance\n",
    "* Timing: getting timing information for particular operations\n",
    "* Profiling: figuring out where time is being spent\n",
    "\n",
    "IPython magic functions\n",
    "\n",
    "* %timeit : uses timeit module from Python Standard Library\n",
    "* %prun : uses profile module from Python Standard Library\n",
    "* %lprun : uses line_profiler module (separate install)"
   ]
  },
  {
   "cell_type": "code",
   "execution_count": 10,
   "metadata": {
    "slideshow": {
     "slide_type": "slide"
    }
   },
   "outputs": [],
   "source": [
    "from scipy.integrate import solve_ivp\n",
    "import numpy as np\n",
    "\n",
    "sigma = 10\n",
    "rho = 28\n",
    "beta = 8.0/3\n",
    "\n",
    "def lorenz(t, xyz):\n",
    "    x,y,z = xyz\n",
    "    xdot = sigma*(y-x)\n",
    "    ydot = x*(rho-z) - y\n",
    "    zdot = x*y - beta*z\n",
    "    return [xdot, ydot, zdot]\n",
    "\n",
    "def integrate_lorenz(ic=[1.,1.,1.], t_span=(0.,100.)):\n",
    "    sol = solve_ivp(lorenz, t_span, ic, t_eval=np.linspace(*t_span, 10000))\n",
    "    return sol"
   ]
  },
  {
   "cell_type": "code",
   "execution_count": 11,
   "metadata": {
    "slideshow": {
     "slide_type": "-"
    }
   },
   "outputs": [
    {
     "name": "stdout",
     "output_type": "stream",
     "text": [
      " "
     ]
    }
   ],
   "source": [
    "%prun integrate_lorenz()"
   ]
  },
  {
   "cell_type": "code",
   "execution_count": 12,
   "metadata": {
    "slideshow": {
     "slide_type": "slide"
    }
   },
   "outputs": [],
   "source": [
    "# first need to install line_profiler package; typically not installed by default\n",
    "\n",
    "%load_ext line_profiler\n",
    "\n",
    "%lprun -f lorenz -f integrate_lorenz integrate_lorenz()\n",
    "\n"
   ]
  },
  {
   "cell_type": "markdown",
   "metadata": {
    "slideshow": {
     "slide_type": "slide"
    }
   },
   "source": [
    "# Optimizing Time to Science"
   ]
  },
  {
   "cell_type": "code",
   "execution_count": 13,
   "metadata": {
    "slideshow": {
     "slide_type": "-"
    }
   },
   "outputs": [],
   "source": [
    "sol = integrate_lorenz()\n",
    "xs, ys, zs = sol['y']"
   ]
  },
  {
   "cell_type": "code",
   "execution_count": 14,
   "metadata": {
    "slideshow": {
     "slide_type": "-"
    }
   },
   "outputs": [
    {
     "data": {
      "image/png": "[encoded data removed]",
      "text/plain": [
       "<Figure size 720x576 with 1 Axes>"
      ]
     },
     "metadata": {
      "needs_background": "light"
     },
     "output_type": "display_data"
    }
   ],
   "source": [
    "import matplotlib.pyplot as plt\n",
    "from mpl_toolkits.mplot3d import Axes3D  \n",
    "%matplotlib inline\n",
    "fig = plt.figure(figsize=(10,8))\n",
    "ax = fig.gca(projection='3d')\n",
    "\n",
    "ax.plot(xs, ys, zs, lw=0.5)\n",
    "ax.set_xlabel(\"x\");\n",
    "ax.set_ylabel(\"y\");\n",
    "ax.set_zlabel(\"z\");\n",
    "ax.set_title('Butterflies are free to fly');"
   ]
  },
  {
   "cell_type": "markdown",
   "metadata": {
    "slideshow": {
     "slide_type": "slide"
    }
   },
   "source": [
    "## Summary\n",
    "\n",
    "* Python and Performance together in one big tent\n",
    "* There is no one answer: think about what works best for what you need to accomplish\n",
    "* Make sure you have the right algorithms, do not prematurely optimize, and be empirical about performance\n",
    "\n",
    "For more detail, see the Cornell Virtual Workshop (CVW) tutorial on \"Python for High Performance\", at https://cvw.cac.cornell.edu/python .\n",
    "\n",
    "These slides are available as a Jupyter notebook named PyPerfWebinar2.ipynb at: https://github.com/CornellCAC/CVW_PyHP \n",
    "\n",
    "There is supplementary material at the end of this notebook going into some of these issues in more detail.\n"
   ]
  },
  {
   "cell_type": "markdown",
   "metadata": {
    "slideshow": {
     "slide_type": "slide"
    }
   },
   "source": [
    "# Supplementary material\n",
    "\n",
    "* Jupyter and RISE\n",
    "* Extension modules in more detail\n",
    "* NumPy: outer products and broadcasting\n",
    "* Python callbacks in SciPy\n",
    "* Parallel execution with numba\n",
    "* Cython\n",
    "    * Pure Python vs. Cython\n",
    "    * Cython timing comparison\n",
    "* Multiprocessing\n",
    "    * concurrent.futures\n",
    "    * example from networkx\n",
    "* Writing faster Python\n",
    "    * Collections and containers\n",
    "    * Lazy evaluation"
   ]
  },
  {
   "cell_type": "markdown",
   "metadata": {
    "slideshow": {
     "slide_type": "slide"
    }
   },
   "source": [
    "# Questions?\n",
    "\n",
    "* Extension modules and hybrid codes\n",
    "* Three main strategies\n",
    "    * More compiled code\n",
    "        * Compiled libraries\n",
    "        * Compilation frameworks\n",
    "        * Wrapper and interface generators\n",
    "    * Parallel processing\n",
    "        * multiprocessing\n",
    "        * MPI\n",
    "    * Faster native Python\n",
    "* Performance assessment\n",
    "* Anything else regarding Python and Performance?"
   ]
  },
  {
   "cell_type": "markdown",
   "metadata": {
    "slideshow": {
     "slide_type": "slide"
    }
   },
   "source": [
    "# Jupyter and RISE\n",
    "\n",
    "This material is contained in a live Jupyter notebook.  The RISE extension enables us to format the notebook as a series of slides.  It is useful to define a few new \"cell magics\" for Jupyter so that this can be run smoothly.\n",
    "\n",
    "* Jupyter: https://jupyter.org\n",
    "* RISE: https://rise.readthedocs.io/en/stable/"
   ]
  },
  {
   "cell_type": "code",
   "execution_count": 15,
   "metadata": {
    "slideshow": {
     "slide_type": "-"
    }
   },
   "outputs": [],
   "source": [
    "# Just a little Jupyter hacking to allow code snippets to proceed without exceptions\n",
    "\n",
    "from IPython.core.magic import register_cell_magic\n",
    "\n",
    "@register_cell_magic('code_for_illustration')\n",
    "def code_for_illustration(line, cell):\n",
    "    try:\n",
    "        exec(cell)\n",
    "    except Exception as e:\n",
    "        print(\"Code snippet for illustration only\")\n",
    "        \n",
    "@register_cell_magic('do_not_run_in_jupyter')\n",
    "def do_not_run_in_jupyter(line, cell):\n",
    "    return"
   ]
  },
  {
   "cell_type": "markdown",
   "metadata": {
    "slideshow": {
     "slide_type": "slide"
    }
   },
   "source": [
    "# Extension module example: the math library"
   ]
  },
  {
   "cell_type": "code",
   "execution_count": 16,
   "metadata": {},
   "outputs": [
    {
     "name": "stdout",
     "output_type": "stream",
     "text": [
      "-1.0\n",
      "/Users/myers/opt/anaconda3/envs/PyPerf/lib/python3.8/lib-dynload/math.cpython-38-darwin.so\n",
      "                 U _PyArg_ParseTuple\r\n",
      "                 U _PyBool_FromLong\r\n",
      "                 U _PyErr_Clear\r\n",
      "                 U _PyErr_ExceptionMatches\r\n",
      "                 U _PyErr_Format\r\n",
      "                 U _PyErr_NoMemory\r\n",
      "                 U _PyErr_Occurred\r\n",
      "                 U _PyErr_SetFromErrno\r\n",
      "                 U _PyErr_SetString\r\n",
      "                 U _PyExc_MemoryError\r\n",
      "                 U _PyExc_OverflowError\r\n",
      "                 U _PyExc_TypeError\r\n",
      "                 U _PyExc_ValueError\r\n",
      "                 U _PyFloat_AsDouble\r\n",
      "                 U _PyFloat_FromDouble\r\n",
      "                 U _PyFloat_Type\r\n",
      "0000000000001040 T _PyInit_math\r\n",
      "                 U _PyIter_Next\r\n",
      "                 U _PyLong_AsDouble\r\n",
      "                 U _PyLong_AsLongAndOverflow\r\n",
      "                 U _PyLong_AsLongLongAndOverflow\r\n",
      "                 U _PyLong_AsUnsignedLongLong\r\n",
      "                 U _PyLong_FromDouble\r\n",
      "                 U _PyLong_FromLong\r\n",
      "                 U _PyLong_FromUnsignedLong\r\n",
      "                 U _PyLong_FromUnsignedLongLong\r\n",
      "                 U _PyLong_Type\r\n",
      "                 U _PyMem_Free\r\n",
      "                 U _PyMem_Malloc\r\n",
      "                 U _PyMem_Realloc\r\n",
      "                 U _PyModule_AddObject\r\n",
      "                 U _PyModule_Create2\r\n",
      "                 U _PyNumber_Add\r\n",
      "                 U _PyNumber_FloorDivide\r\n",
      "                 U _PyNumber_Index\r\n",
      "                 U _PyNumber_Multiply\r\n",
      "                 U _PyNumber_Subtract\r\n",
      "                 U _PyNumber_TrueDivide\r\n",
      "                 U _PyObject_Free\r\n",
      "                 U _PyObject_GetIter\r\n",
      "                 U _PyObject_Malloc\r\n",
      "                 U _PyObject_RichCompareBool\r\n",
      "                 U _PySequence_Tuple\r\n",
      "                 U _PyType_IsSubtype\r\n",
      "                 U _PyType_Ready\r\n",
      "                 U _Py_BuildValue\r\n",
      "                 U _Py_FatalError\r\n",
      "0000000000009a80 s _SmallFactorials\r\n",
      "                 U __PyArg_CheckPositional\r\n",
      "                 U __PyArg_UnpackKeywords\r\n",
      "                 U __PyLong_Copy\r\n",
      "                 U __PyLong_Frexp\r\n",
      "                 U __PyLong_GCD\r\n",
      "                 U __PyLong_Lshift\r\n",
      "                 U __PyLong_NumBits\r\n",
      "                 U __PyLong_One\r\n",
      "                 U __PyLong_Rshift\r\n",
      "                 U __PyLong_Sign\r\n",
      "                 U __PyObject_LookupSpecial\r\n",
      "                 U __PyObject_MakeTpCall\r\n",
      "                 U __Py_CheckFunctionResult\r\n",
      "                 U __Py_Dealloc\r\n",
      "                 U __Py_NoneStruct\r\n",
      "                 U __Py_dg_infinity\r\n",
      "                 U __Py_dg_stdnan\r\n",
      "00000000000076a0 T __Py_log1p\r\n",
      "                 U ___error\r\n",
      "                 U ___stack_chk_fail\r\n",
      "                 U ___stack_chk_guard\r\n",
      "                 U _acos\r\n",
      "                 U _acosh\r\n",
      "                 U _asin\r\n",
      "                 U _asinh\r\n",
      "                 U _atan\r\n",
      "                 U _atan2\r\n",
      "                 U _atanh\r\n",
      "                 U _ceil\r\n",
      "                 U _copysign\r\n",
      "                 U _cos\r\n",
      "                 U _cosh\r\n",
      "                 U _erf\r\n",
      "                 U _erfc\r\n",
      "                 U _exp\r\n",
      "                 U _expm1\r\n",
      "0000000000007560 t _factorial_partial_product\r\n",
      "                 U _floor\r\n",
      "                 U _fmod\r\n",
      "                 U _frexp\r\n",
      "00000000000099c0 s _gamma_integral\r\n",
      "                 U _ldexp\r\n",
      "                 U _log\r\n",
      "                 U _log10\r\n",
      "                 U _log1p\r\n",
      "                 U _log2\r\n",
      "00000000000070f0 t _loghelper\r\n",
      "0000000000006f90 t _m_atan2\r\n",
      "0000000000007340 t _m_log\r\n",
      "00000000000073d0 t _m_log10\r\n",
      "0000000000007060 t _m_log2\r\n",
      "0000000000006ca0 t _m_remainder\r\n",
      "0000000000006dd0 t _math_2\r\n",
      "0000000000001110 t _math_acos\r\n",
      "0000000000007ea0 s _math_acos_doc\r\n",
      "0000000000001240 t _math_acosh\r\n",
      "0000000000007ef0 s _math_acosh_doc\r\n",
      "0000000000001370 t _math_asin\r\n",
      "0000000000007f40 s _math_asin_doc\r\n",
      "00000000000014a0 t _math_asinh\r\n",
      "0000000000007f90 s _math_asinh_doc\r\n",
      "00000000000015d0 t _math_atan\r\n",
      "0000000000001700 t _math_atan2\r\n",
      "0000000000008030 s _math_atan2_doc\r\n",
      "0000000000007fe0 s _math_atan_doc\r\n",
      "0000000000001730 t _math_atanh\r\n",
      "00000000000080c0 s _math_atanh_doc\r\n",
      "0000000000001860 t _math_ceil\r\n",
      "000000000000aaf0 d _math_ceil.PyId___ceil__\r\n",
      "0000000000008110 s _math_ceil__doc__\r\n",
      "0000000000006880 t _math_comb\r\n",
      "00000000000097f0 s _math_comb__doc__\r\n",
      "0000000000001a30 t _math_copysign\r\n",
      "0000000000008180 s _math_copysign_doc\r\n",
      "0000000000001a60 t _math_cos\r\n",
      "0000000000008240 s _math_cos_doc\r\n",
      "0000000000001b90 t _math_cosh\r\n",
      "0000000000008290 s _math_cosh_doc\r\n",
      "0000000000001cb0 t _math_degrees\r\n",
      "00000000000082d0 s _math_degrees__doc__\r\n",
      "0000000000001d00 t _math_dist\r\n",
      "0000000000008320 s _math_dist__doc__\r\n",
      "00000000000022e0 t _math_erf\r\n",
      "0000000000008440 s _math_erf_doc\r\n",
      "00000000000023c0 t _math_erfc\r\n",
      "0000000000008470 s _math_erfc_doc\r\n",
      "00000000000024a0 t _math_exp\r\n",
      "00000000000084b0 s _math_exp_doc\r\n",
      "00000000000025c0 t _math_expm1\r\n",
      "00000000000084f0 s _math_expm1_doc\r\n",
      "00000000000026e0 t _math_fabs\r\n",
      "0000000000008590 s _math_fabs_doc\r\n",
      "00000000000027e0 t _math_factorial\r\n",
      "00000000000085e0 s _math_factorial__doc__\r\n",
      "0000000000002b70 t _math_floor\r\n",
      "000000000000aad8 d _math_floor.PyId___floor__\r\n",
      "0000000000008640 s _math_floor__doc__\r\n",
      "0000000000002d40 t _math_fmod\r\n",
      "00000000000086b0 s _math_fmod__doc__\r\n",
      "0000000000007460 t _math_fmod_impl\r\n",
      "0000000000002e10 t _math_frexp\r\n",
      "0000000000008710 s _math_frexp__doc__\r\n",
      "0000000000002ee0 t _math_fsum\r\n",
      "00000000000087e0 s _math_fsum__doc__\r\n",
      "00000000000034b0 t _math_gamma\r\n",
      "0000000000008870 s _math_gamma_doc\r\n",
      "0000000000003d70 t _math_gcd\r\n",
      "00000000000088a0 s _math_gcd__doc__\r\n",
      "0000000000003e30 t _math_hypot\r\n",
      "00000000000088e0 s _math_hypot_doc\r\n",
      "0000000000004100 t _math_isclose\r\n",
      "000000000000a340 s _math_isclose._keywords\r\n",
      "000000000000aa98 d _math_isclose._parser\r\n",
      "0000000000008a50 s _math_isclose__doc__\r\n",
      "0000000000004450 t _math_isfinite\r\n",
      "0000000000008d10 s _math_isfinite__doc__\r\n",
      "00000000000044c0 t _math_isinf\r\n",
      "0000000000008d80 s _math_isinf__doc__\r\n",
      "0000000000004520 t _math_isnan\r\n",
      "0000000000008df0 s _math_isnan__doc__\r\n",
      "0000000000004580 t _math_isqrt\r\n",
      "0000000000008e50 s _math_isqrt__doc__\r\n",
      "00000000000049d0 t _math_ldexp\r\n",
      "0000000000008eb0 s _math_ldexp__doc__\r\n",
      "0000000000004c40 t _math_lgamma\r\n",
      "0000000000008f10 s _math_lgamma_doc\r\n",
      "0000000000005120 t _math_log\r\n",
      "00000000000053b0 t _math_log10\r\n",
      "0000000000009090 s _math_log10__doc__\r\n",
      "0000000000005270 t _math_log1p\r\n",
      "0000000000009000 s _math_log1p_doc\r\n",
      "00000000000053d0 t _math_log2\r\n",
      "00000000000090d0 s _math_log2__doc__\r\n",
      "0000000000008f70 s _math_log__doc__\r\n",
      "000000000000a3e0 d _math_methods\r\n",
      "00000000000053f0 t _math_modf\r\n",
      "0000000000009110 s _math_modf__doc__\r\n",
      "0000000000006520 t _math_perm\r\n",
      "0000000000009660 s _math_perm__doc__\r\n",
      "00000000000054e0 t _math_pow\r\n",
      "0000000000009190 s _math_pow__doc__\r\n",
      "0000000000006020 t _math_prod\r\n",
      "000000000000a320 s _math_prod._keywords\r\n",
      "000000000000aa40 d _math_prod._parser\r\n",
      "0000000000009520 s _math_prod__doc__\r\n",
      "00000000000058e0 t _math_radians\r\n",
      "00000000000091d0 s _math_radians__doc__\r\n",
      "0000000000005940 t _math_remainder\r\n",
      "0000000000009220 s _math_remainder_doc\r\n",
      "0000000000005970 t _math_sin\r\n",
      "0000000000009340 s _math_sin_doc\r\n",
      "0000000000005aa0 t _math_sinh\r\n",
      "0000000000009390 s _math_sinh_doc\r\n",
      "0000000000005bc0 t _math_sqrt\r\n",
      "00000000000093d0 s _math_sqrt_doc\r\n",
      "0000000000005cf0 t _math_tan\r\n",
      "0000000000009410 s _math_tan_doc\r\n",
      "0000000000005e20 t _math_tanh\r\n",
      "0000000000009460 s _math_tanh_doc\r\n",
      "0000000000005f50 t _math_trunc\r\n",
      "000000000000aa80 d _math_trunc.PyId___trunc__\r\n",
      "00000000000094a0 s _math_trunc__doc__\r\n",
      "000000000000a370 d _mathmodule\r\n",
      "                 U _memcpy\r\n",
      "                 U _modf\r\n",
      "0000000000007e40 s _module_doc\r\n",
      "                 U _pow\r\n",
      "                 U _round\r\n",
      "                 U _sin\r\n",
      "                 U _sinh\r\n",
      "                 U _tan\r\n",
      "                 U _tanh\r\n",
      "                 U dyld_stub_binder\r\n"
     ]
    }
   ],
   "source": [
    "# Linux & MacOS only -- examine the mix of API and math functions in the math .so shared library\n",
    "\n",
    "import math\n",
    "print(math.cos(math.pi))\n",
    "\n",
    "print(math.__file__)\n",
    "\n",
    "!nm $math.__file__"
   ]
  },
  {
   "cell_type": "markdown",
   "metadata": {
    "slideshow": {
     "slide_type": "slide"
    }
   },
   "source": [
    "# NumPy: outer products and broadcasting"
   ]
  },
  {
   "cell_type": "code",
   "execution_count": 17,
   "metadata": {},
   "outputs": [],
   "source": [
    "# numpy multiplicative outer product\n",
    "\n",
    "def outer(a,b):\n",
    "    multiply(a.ravel()[:, newaxis], b.ravel()[newaxis, :], out)\n",
    "\n",
    "# e.g., generalized outer product to compute pairwise Hamming distances between all subsequences in a 2D array\n",
    "\n",
    "def Hamming_outer(a0,a1):\n",
    "    return np.sum(np.bitwise_xor(a0[:,np.newaxis], a1[np.newaxis,:]), axis=2)"
   ]
  },
  {
   "cell_type": "markdown",
   "metadata": {
    "slideshow": {
     "slide_type": "slide"
    }
   },
   "source": [
    "# Python callbacks in SciPy"
   ]
  },
  {
   "cell_type": "markdown",
   "metadata": {
    "slideshow": {
     "slide_type": "-"
    }
   },
   "source": [
    "![Python callbacks](images/PyCallable.png)\n",
    "\n",
    "* can hack things with the help of wrapper generation tools to get compiled routines to accept a pointer to a compiled callback function (func in this example)\n",
    "* scipy.LowLevelCallable recently introduced to work with some functions (not solve_ivp)"
   ]
  },
  {
   "cell_type": "markdown",
   "metadata": {
    "slideshow": {
     "slide_type": "slide"
    }
   },
   "source": [
    "# Parallel execution with Numba"
   ]
  },
  {
   "cell_type": "code",
   "execution_count": 18,
   "metadata": {
    "slideshow": {
     "slide_type": "-"
    }
   },
   "outputs": [],
   "source": [
    "from numba import prange\n",
    "\n",
    "@jit(nopython=True, parallel=True)\n",
    "def f5(x,y,z):\n",
    "    result = np.empty_like(x)\n",
    "    for i in prange(x.shape[0]):\n",
    "        for j in prange(x.shape[1]):\n",
    "            result[i,j] = x[i,j] + 2*y[i,j] + 3*z[i,j]\n",
    "    return result\n",
    "\n",
    "@jit(nopython=True, parallel=True)\n",
    "def f6(x,y,z):\n",
    "    return x + 2*y + 3*z\n",
    "\n",
    "\n",
    "r5 = f5(X,Y,Z); r6 = f6(X,Y,Z);"
   ]
  },
  {
   "cell_type": "code",
   "execution_count": 19,
   "metadata": {},
   "outputs": [
    {
     "name": "stdout",
     "output_type": "stream",
     "text": [
      "983 µs ± 69.4 µs per loop (mean ± std. dev. of 7 runs, 1000 loops each)\n",
      "1.27 ms ± 127 µs per loop (mean ± std. dev. of 7 runs, 1000 loops each)\n"
     ]
    }
   ],
   "source": [
    "%timeit f5(X,Y,Z)\n",
    "%timeit f6(X,Y,Z)"
   ]
  },
  {
   "cell_type": "markdown",
   "metadata": {
    "slideshow": {
     "slide_type": "slide"
    }
   },
   "source": [
    "# Comparing pure Python vs. Cython"
   ]
  },
  {
   "cell_type": "code",
   "execution_count": 20,
   "metadata": {
    "slideshow": {
     "slide_type": "slide"
    }
   },
   "outputs": [
    {
     "name": "stdout",
     "output_type": "stream",
     "text": [
      "[2, 3, 5, 7, 11, 13, 17, 19, 23, 29, 31, 37, 41, 43, 47, 53, 59, 61, 67, 71, 73, 79, 83, 89, 97, 101, 103, 107, 109, 113, 127, 131, 137, 139, 149, 151, 157, 163, 167, 173, 179, 181, 191, 193, 197, 199, 211, 223, 227, 229, 233, 239, 241, 251, 257, 263, 269, 271, 277, 281, 283, 293, 307, 311, 313, 317, 331, 337, 347, 349, 353, 359, 367, 373, 379, 383, 389, 397, 401, 409, 419, 421, 431, 433, 439, 443, 449, 457, 461, 463, 467, 479, 487, 491, 499, 503, 509, 521, 523, 541]\n"
     ]
    }
   ],
   "source": [
    "# Example: adapted from Cython tutorial at https://cython.readthedocs.io/en/latest/src/tutorial/cython_tutorial.html#primes\n",
    "# pure Python code\n",
    "\n",
    "def primes(nb_primes):\n",
    "    if nb_primes > 1000:\n",
    "        nb_primes = 1000\n",
    "\n",
    "    p = [0]*nb_primes\n",
    "    len_p = 0  # The current number of elements in p.\n",
    "    n = 2\n",
    "    while len_p < nb_primes:\n",
    "        # Is n prime?\n",
    "        for i in p[:len_p]:\n",
    "            if n % i == 0:\n",
    "                break\n",
    "\n",
    "        # If no break occurred in the loop, we have a prime.\n",
    "        else:\n",
    "            p[len_p] = n\n",
    "            len_p += 1\n",
    "        n += 1\n",
    "\n",
    "    # Let's return the result in a python list:\n",
    "    #result_as_list  = [prime for prime in p[:len_p]]\n",
    "    #return result_as_list\n",
    "    return p\n",
    "\n",
    "primes100 = primes(100)\n",
    "print(primes100)"
   ]
  },
  {
   "cell_type": "code",
   "execution_count": 21,
   "metadata": {
    "slideshow": {
     "slide_type": "slide"
    }
   },
   "outputs": [],
   "source": [
    "%load_ext Cython"
   ]
  },
  {
   "cell_type": "code",
   "execution_count": 22,
   "metadata": {
    "scrolled": false
   },
   "outputs": [
    {
     "name": "stdout",
     "output_type": "stream",
     "text": [
      "[2, 3, 5, 7, 11, 13, 17, 19, 23, 29, 31, 37, 41, 43, 47, 53, 59, 61, 67, 71, 73, 79, 83, 89, 97, 101, 103, 107, 109, 113, 127, 131, 137, 139, 149, 151, 157, 163, 167, 173, 179, 181, 191, 193, 197, 199, 211, 223, 227, 229, 233, 239, 241, 251, 257, 263, 269, 271, 277, 281, 283, 293, 307, 311, 313, 317, 331, 337, 347, 349, 353, 359, 367, 373, 379, 383, 389, 397, 401, 409, 419, 421, 431, 433, 439, 443, 449, 457, 461, 463, 467, 479, 487, 491, 499, 503, 509, 521, 523, 541]\n"
     ]
    },
    {
     "data": {
      "text/html": [
       "<!DOCTYPE html>\n",
       "<!-- Generated by Cython 0.29.17 -->\n",
       "<html>\n",
       "<head>\n",
       "    <meta http-equiv=\"Content-Type\" content=\"text/html; charset=utf-8\" />\n",
       "    <title>Cython: _cython_magic_4aa45f6e93daece179769894cf9d3505.pyx</title>\n",
       "    <style type=\"text/css\">\n",
       "    \n",
       "body.cython { font-family: courier; font-size: 12; }\n",
       "\n",
       ".cython.tag  {  }\n",
       ".cython.line { margin: 0em }\n",
       ".cython.code { font-size: 9; color: #444444; display: none; margin: 0px 0px 0px 8px; border-left: 8px none; }\n",
       "\n",
       ".cython.line .run { background-color: #B0FFB0; }\n",
       ".cython.line .mis { background-color: #FFB0B0; }\n",
       ".cython.code.run  { border-left: 8px solid #B0FFB0; }\n",
       ".cython.code.mis  { border-left: 8px solid #FFB0B0; }\n",
       "\n",
       ".cython.code .py_c_api  { color: red; }\n",
       ".cython.code .py_macro_api  { color: #FF7000; }\n",
       ".cython.code .pyx_c_api  { color: #FF3000; }\n",
       ".cython.code .pyx_macro_api  { color: #FF7000; }\n",
       ".cython.code .refnanny  { color: #FFA000; }\n",
       ".cython.code .trace  { color: #FFA000; }\n",
       ".cython.code .error_goto  { color: #FFA000; }\n",
       "\n",
       ".cython.code .coerce  { color: #008000; border: 1px dotted #008000 }\n",
       ".cython.code .py_attr { color: #FF0000; font-weight: bold; }\n",
       ".cython.code .c_attr  { color: #0000FF; }\n",
       ".cython.code .py_call { color: #FF0000; font-weight: bold; }\n",
       ".cython.code .c_call  { color: #0000FF; }\n",
       "\n",
       ".cython.score-0 {background-color: #FFFFff;}\n",
       ".cython.score-1 {background-color: #FFFFe7;}\n",
       ".cython.score-2 {background-color: #FFFFd4;}\n",
       ".cython.score-3 {background-color: #FFFFc4;}\n",
       ".cython.score-4 {background-color: #FFFFb6;}\n",
       ".cython.score-5 {background-color: #FFFFaa;}\n",
       ".cython.score-6 {background-color: #FFFF9f;}\n",
       ".cython.score-7 {background-color: #FFFF96;}\n",
       ".cython.score-8 {background-color: #FFFF8d;}\n",
       ".cython.score-9 {background-color: #FFFF86;}\n",
       ".cython.score-10 {background-color: #FFFF7f;}\n",
       ".cython.score-11 {background-color: #FFFF79;}\n",
       ".cython.score-12 {background-color: #FFFF73;}\n",
       ".cython.score-13 {background-color: #FFFF6e;}\n",
       ".cython.score-14 {background-color: #FFFF6a;}\n",
       ".cython.score-15 {background-color: #FFFF66;}\n",
       ".cython.score-16 {background-color: #FFFF62;}\n",
       ".cython.score-17 {background-color: #FFFF5e;}\n",
       ".cython.score-18 {background-color: #FFFF5b;}\n",
       ".cython.score-19 {background-color: #FFFF57;}\n",
       ".cython.score-20 {background-color: #FFFF55;}\n",
       ".cython.score-21 {background-color: #FFFF52;}\n",
       ".cython.score-22 {background-color: #FFFF4f;}\n",
       ".cython.score-23 {background-color: #FFFF4d;}\n",
       ".cython.score-24 {background-color: #FFFF4b;}\n",
       ".cython.score-25 {background-color: #FFFF48;}\n",
       ".cython.score-26 {background-color: #FFFF46;}\n",
       ".cython.score-27 {background-color: #FFFF44;}\n",
       ".cython.score-28 {background-color: #FFFF43;}\n",
       ".cython.score-29 {background-color: #FFFF41;}\n",
       ".cython.score-30 {background-color: #FFFF3f;}\n",
       ".cython.score-31 {background-color: #FFFF3e;}\n",
       ".cython.score-32 {background-color: #FFFF3c;}\n",
       ".cython.score-33 {background-color: #FFFF3b;}\n",
       ".cython.score-34 {background-color: #FFFF39;}\n",
       ".cython.score-35 {background-color: #FFFF38;}\n",
       ".cython.score-36 {background-color: #FFFF37;}\n",
       ".cython.score-37 {background-color: #FFFF36;}\n",
       ".cython.score-38 {background-color: #FFFF35;}\n",
       ".cython.score-39 {background-color: #FFFF34;}\n",
       ".cython.score-40 {background-color: #FFFF33;}\n",
       ".cython.score-41 {background-color: #FFFF32;}\n",
       ".cython.score-42 {background-color: #FFFF31;}\n",
       ".cython.score-43 {background-color: #FFFF30;}\n",
       ".cython.score-44 {background-color: #FFFF2f;}\n",
       ".cython.score-45 {background-color: #FFFF2e;}\n",
       ".cython.score-46 {background-color: #FFFF2d;}\n",
       ".cython.score-47 {background-color: #FFFF2c;}\n",
       ".cython.score-48 {background-color: #FFFF2b;}\n",
       ".cython.score-49 {background-color: #FFFF2b;}\n",
       ".cython.score-50 {background-color: #FFFF2a;}\n",
       ".cython.score-51 {background-color: #FFFF29;}\n",
       ".cython.score-52 {background-color: #FFFF29;}\n",
       ".cython.score-53 {background-color: #FFFF28;}\n",
       ".cython.score-54 {background-color: #FFFF27;}\n",
       ".cython.score-55 {background-color: #FFFF27;}\n",
       ".cython.score-56 {background-color: #FFFF26;}\n",
       ".cython.score-57 {background-color: #FFFF26;}\n",
       ".cython.score-58 {background-color: #FFFF25;}\n",
       ".cython.score-59 {background-color: #FFFF24;}\n",
       ".cython.score-60 {background-color: #FFFF24;}\n",
       ".cython.score-61 {background-color: #FFFF23;}\n",
       ".cython.score-62 {background-color: #FFFF23;}\n",
       ".cython.score-63 {background-color: #FFFF22;}\n",
       ".cython.score-64 {background-color: #FFFF22;}\n",
       ".cython.score-65 {background-color: #FFFF22;}\n",
       ".cython.score-66 {background-color: #FFFF21;}\n",
       ".cython.score-67 {background-color: #FFFF21;}\n",
       ".cython.score-68 {background-color: #FFFF20;}\n",
       ".cython.score-69 {background-color: #FFFF20;}\n",
       ".cython.score-70 {background-color: #FFFF1f;}\n",
       ".cython.score-71 {background-color: #FFFF1f;}\n",
       ".cython.score-72 {background-color: #FFFF1f;}\n",
       ".cython.score-73 {background-color: #FFFF1e;}\n",
       ".cython.score-74 {background-color: #FFFF1e;}\n",
       ".cython.score-75 {background-color: #FFFF1e;}\n",
       ".cython.score-76 {background-color: #FFFF1d;}\n",
       ".cython.score-77 {background-color: #FFFF1d;}\n",
       ".cython.score-78 {background-color: #FFFF1c;}\n",
       ".cython.score-79 {background-color: #FFFF1c;}\n",
       ".cython.score-80 {background-color: #FFFF1c;}\n",
       ".cython.score-81 {background-color: #FFFF1c;}\n",
       ".cython.score-82 {background-color: #FFFF1b;}\n",
       ".cython.score-83 {background-color: #FFFF1b;}\n",
       ".cython.score-84 {background-color: #FFFF1b;}\n",
       ".cython.score-85 {background-color: #FFFF1a;}\n",
       ".cython.score-86 {background-color: #FFFF1a;}\n",
       ".cython.score-87 {background-color: #FFFF1a;}\n",
       ".cython.score-88 {background-color: #FFFF1a;}\n",
       ".cython.score-89 {background-color: #FFFF19;}\n",
       ".cython.score-90 {background-color: #FFFF19;}\n",
       ".cython.score-91 {background-color: #FFFF19;}\n",
       ".cython.score-92 {background-color: #FFFF19;}\n",
       ".cython.score-93 {background-color: #FFFF18;}\n",
       ".cython.score-94 {background-color: #FFFF18;}\n",
       ".cython.score-95 {background-color: #FFFF18;}\n",
       ".cython.score-96 {background-color: #FFFF18;}\n",
       ".cython.score-97 {background-color: #FFFF17;}\n",
       ".cython.score-98 {background-color: #FFFF17;}\n",
       ".cython.score-99 {background-color: #FFFF17;}\n",
       ".cython.score-100 {background-color: #FFFF17;}\n",
       ".cython.score-101 {background-color: #FFFF16;}\n",
       ".cython.score-102 {background-color: #FFFF16;}\n",
       ".cython.score-103 {background-color: #FFFF16;}\n",
       ".cython.score-104 {background-color: #FFFF16;}\n",
       ".cython.score-105 {background-color: #FFFF16;}\n",
       ".cython.score-106 {background-color: #FFFF15;}\n",
       ".cython.score-107 {background-color: #FFFF15;}\n",
       ".cython.score-108 {background-color: #FFFF15;}\n",
       ".cython.score-109 {background-color: #FFFF15;}\n",
       ".cython.score-110 {background-color: #FFFF15;}\n",
       ".cython.score-111 {background-color: #FFFF15;}\n",
       ".cython.score-112 {background-color: #FFFF14;}\n",
       ".cython.score-113 {background-color: #FFFF14;}\n",
       ".cython.score-114 {background-color: #FFFF14;}\n",
       ".cython.score-115 {background-color: #FFFF14;}\n",
       ".cython.score-116 {background-color: #FFFF14;}\n",
       ".cython.score-117 {background-color: #FFFF14;}\n",
       ".cython.score-118 {background-color: #FFFF13;}\n",
       ".cython.score-119 {background-color: #FFFF13;}\n",
       ".cython.score-120 {background-color: #FFFF13;}\n",
       ".cython.score-121 {background-color: #FFFF13;}\n",
       ".cython.score-122 {background-color: #FFFF13;}\n",
       ".cython.score-123 {background-color: #FFFF13;}\n",
       ".cython.score-124 {background-color: #FFFF13;}\n",
       ".cython.score-125 {background-color: #FFFF12;}\n",
       ".cython.score-126 {background-color: #FFFF12;}\n",
       ".cython.score-127 {background-color: #FFFF12;}\n",
       ".cython.score-128 {background-color: #FFFF12;}\n",
       ".cython.score-129 {background-color: #FFFF12;}\n",
       ".cython.score-130 {background-color: #FFFF12;}\n",
       ".cython.score-131 {background-color: #FFFF12;}\n",
       ".cython.score-132 {background-color: #FFFF11;}\n",
       ".cython.score-133 {background-color: #FFFF11;}\n",
       ".cython.score-134 {background-color: #FFFF11;}\n",
       ".cython.score-135 {background-color: #FFFF11;}\n",
       ".cython.score-136 {background-color: #FFFF11;}\n",
       ".cython.score-137 {background-color: #FFFF11;}\n",
       ".cython.score-138 {background-color: #FFFF11;}\n",
       ".cython.score-139 {background-color: #FFFF11;}\n",
       ".cython.score-140 {background-color: #FFFF11;}\n",
       ".cython.score-141 {background-color: #FFFF10;}\n",
       ".cython.score-142 {background-color: #FFFF10;}\n",
       ".cython.score-143 {background-color: #FFFF10;}\n",
       ".cython.score-144 {background-color: #FFFF10;}\n",
       ".cython.score-145 {background-color: #FFFF10;}\n",
       ".cython.score-146 {background-color: #FFFF10;}\n",
       ".cython.score-147 {background-color: #FFFF10;}\n",
       ".cython.score-148 {background-color: #FFFF10;}\n",
       ".cython.score-149 {background-color: #FFFF10;}\n",
       ".cython.score-150 {background-color: #FFFF0f;}\n",
       ".cython.score-151 {background-color: #FFFF0f;}\n",
       ".cython.score-152 {background-color: #FFFF0f;}\n",
       ".cython.score-153 {background-color: #FFFF0f;}\n",
       ".cython.score-154 {background-color: #FFFF0f;}\n",
       ".cython.score-155 {background-color: #FFFF0f;}\n",
       ".cython.score-156 {background-color: #FFFF0f;}\n",
       ".cython.score-157 {background-color: #FFFF0f;}\n",
       ".cython.score-158 {background-color: #FFFF0f;}\n",
       ".cython.score-159 {background-color: #FFFF0f;}\n",
       ".cython.score-160 {background-color: #FFFF0f;}\n",
       ".cython.score-161 {background-color: #FFFF0e;}\n",
       ".cython.score-162 {background-color: #FFFF0e;}\n",
       ".cython.score-163 {background-color: #FFFF0e;}\n",
       ".cython.score-164 {background-color: #FFFF0e;}\n",
       ".cython.score-165 {background-color: #FFFF0e;}\n",
       ".cython.score-166 {background-color: #FFFF0e;}\n",
       ".cython.score-167 {background-color: #FFFF0e;}\n",
       ".cython.score-168 {background-color: #FFFF0e;}\n",
       ".cython.score-169 {background-color: #FFFF0e;}\n",
       ".cython.score-170 {background-color: #FFFF0e;}\n",
       ".cython.score-171 {background-color: #FFFF0e;}\n",
       ".cython.score-172 {background-color: #FFFF0e;}\n",
       ".cython.score-173 {background-color: #FFFF0d;}\n",
       ".cython.score-174 {background-color: #FFFF0d;}\n",
       ".cython.score-175 {background-color: #FFFF0d;}\n",
       ".cython.score-176 {background-color: #FFFF0d;}\n",
       ".cython.score-177 {background-color: #FFFF0d;}\n",
       ".cython.score-178 {background-color: #FFFF0d;}\n",
       ".cython.score-179 {background-color: #FFFF0d;}\n",
       ".cython.score-180 {background-color: #FFFF0d;}\n",
       ".cython.score-181 {background-color: #FFFF0d;}\n",
       ".cython.score-182 {background-color: #FFFF0d;}\n",
       ".cython.score-183 {background-color: #FFFF0d;}\n",
       ".cython.score-184 {background-color: #FFFF0d;}\n",
       ".cython.score-185 {background-color: #FFFF0d;}\n",
       ".cython.score-186 {background-color: #FFFF0d;}\n",
       ".cython.score-187 {background-color: #FFFF0c;}\n",
       ".cython.score-188 {background-color: #FFFF0c;}\n",
       ".cython.score-189 {background-color: #FFFF0c;}\n",
       ".cython.score-190 {background-color: #FFFF0c;}\n",
       ".cython.score-191 {background-color: #FFFF0c;}\n",
       ".cython.score-192 {background-color: #FFFF0c;}\n",
       ".cython.score-193 {background-color: #FFFF0c;}\n",
       ".cython.score-194 {background-color: #FFFF0c;}\n",
       ".cython.score-195 {background-color: #FFFF0c;}\n",
       ".cython.score-196 {background-color: #FFFF0c;}\n",
       ".cython.score-197 {background-color: #FFFF0c;}\n",
       ".cython.score-198 {background-color: #FFFF0c;}\n",
       ".cython.score-199 {background-color: #FFFF0c;}\n",
       ".cython.score-200 {background-color: #FFFF0c;}\n",
       ".cython.score-201 {background-color: #FFFF0c;}\n",
       ".cython.score-202 {background-color: #FFFF0c;}\n",
       ".cython.score-203 {background-color: #FFFF0b;}\n",
       ".cython.score-204 {background-color: #FFFF0b;}\n",
       ".cython.score-205 {background-color: #FFFF0b;}\n",
       ".cython.score-206 {background-color: #FFFF0b;}\n",
       ".cython.score-207 {background-color: #FFFF0b;}\n",
       ".cython.score-208 {background-color: #FFFF0b;}\n",
       ".cython.score-209 {background-color: #FFFF0b;}\n",
       ".cython.score-210 {background-color: #FFFF0b;}\n",
       ".cython.score-211 {background-color: #FFFF0b;}\n",
       ".cython.score-212 {background-color: #FFFF0b;}\n",
       ".cython.score-213 {background-color: #FFFF0b;}\n",
       ".cython.score-214 {background-color: #FFFF0b;}\n",
       ".cython.score-215 {background-color: #FFFF0b;}\n",
       ".cython.score-216 {background-color: #FFFF0b;}\n",
       ".cython.score-217 {background-color: #FFFF0b;}\n",
       ".cython.score-218 {background-color: #FFFF0b;}\n",
       ".cython.score-219 {background-color: #FFFF0b;}\n",
       ".cython.score-220 {background-color: #FFFF0b;}\n",
       ".cython.score-221 {background-color: #FFFF0b;}\n",
       ".cython.score-222 {background-color: #FFFF0a;}\n",
       ".cython.score-223 {background-color: #FFFF0a;}\n",
       ".cython.score-224 {background-color: #FFFF0a;}\n",
       ".cython.score-225 {background-color: #FFFF0a;}\n",
       ".cython.score-226 {background-color: #FFFF0a;}\n",
       ".cython.score-227 {background-color: #FFFF0a;}\n",
       ".cython.score-228 {background-color: #FFFF0a;}\n",
       ".cython.score-229 {background-color: #FFFF0a;}\n",
       ".cython.score-230 {background-color: #FFFF0a;}\n",
       ".cython.score-231 {background-color: #FFFF0a;}\n",
       ".cython.score-232 {background-color: #FFFF0a;}\n",
       ".cython.score-233 {background-color: #FFFF0a;}\n",
       ".cython.score-234 {background-color: #FFFF0a;}\n",
       ".cython.score-235 {background-color: #FFFF0a;}\n",
       ".cython.score-236 {background-color: #FFFF0a;}\n",
       ".cython.score-237 {background-color: #FFFF0a;}\n",
       ".cython.score-238 {background-color: #FFFF0a;}\n",
       ".cython.score-239 {background-color: #FFFF0a;}\n",
       ".cython.score-240 {background-color: #FFFF0a;}\n",
       ".cython.score-241 {background-color: #FFFF0a;}\n",
       ".cython.score-242 {background-color: #FFFF0a;}\n",
       ".cython.score-243 {background-color: #FFFF0a;}\n",
       ".cython.score-244 {background-color: #FFFF0a;}\n",
       ".cython.score-245 {background-color: #FFFF0a;}\n",
       ".cython.score-246 {background-color: #FFFF09;}\n",
       ".cython.score-247 {background-color: #FFFF09;}\n",
       ".cython.score-248 {background-color: #FFFF09;}\n",
       ".cython.score-249 {background-color: #FFFF09;}\n",
       ".cython.score-250 {background-color: #FFFF09;}\n",
       ".cython.score-251 {background-color: #FFFF09;}\n",
       ".cython.score-252 {background-color: #FFFF09;}\n",
       ".cython.score-253 {background-color: #FFFF09;}\n",
       ".cython.score-254 {background-color: #FFFF09;}\n",
       ".cython .hll { background-color: #ffffcc }\n",
       ".cython  { background: #f8f8f8; }\n",
       ".cython .c { color: #408080; font-style: italic } /* Comment */\n",
       ".cython .err { border: 1px solid #FF0000 } /* Error */\n",
       ".cython .k { color: #008000; font-weight: bold } /* Keyword */\n",
       ".cython .o { color: #666666 } /* Operator */\n",
       ".cython .ch { color: #408080; font-style: italic } /* Comment.Hashbang */\n",
       ".cython .cm { color: #408080; font-style: italic } /* Comment.Multiline */\n",
       ".cython .cp { color: #BC7A00 } /* Comment.Preproc */\n",
       ".cython .cpf { color: #408080; font-style: italic } /* Comment.PreprocFile */\n",
       ".cython .c1 { color: #408080; font-style: italic } /* Comment.Single */\n",
       ".cython .cs { color: #408080; font-style: italic } /* Comment.Special */\n",
       ".cython .gd { color: #A00000 } /* Generic.Deleted */\n",
       ".cython .ge { font-style: italic } /* Generic.Emph */\n",
       ".cython .gr { color: #FF0000 } /* Generic.Error */\n",
       ".cython .gh { color: #000080; font-weight: bold } /* Generic.Heading */\n",
       ".cython .gi { color: #00A000 } /* Generic.Inserted */\n",
       ".cython .go { color: #888888 } /* Generic.Output */\n",
       ".cython .gp { color: #000080; font-weight: bold } /* Generic.Prompt */\n",
       ".cython .gs { font-weight: bold } /* Generic.Strong */\n",
       ".cython .gu { color: #800080; font-weight: bold } /* Generic.Subheading */\n",
       ".cython .gt { color: #0044DD } /* Generic.Traceback */\n",
       ".cython .kc { color: #008000; font-weight: bold } /* Keyword.Constant */\n",
       ".cython .kd { color: #008000; font-weight: bold } /* Keyword.Declaration */\n",
       ".cython .kn { color: #008000; font-weight: bold } /* Keyword.Namespace */\n",
       ".cython .kp { color: #008000 } /* Keyword.Pseudo */\n",
       ".cython .kr { color: #008000; font-weight: bold } /* Keyword.Reserved */\n",
       ".cython .kt { color: #B00040 } /* Keyword.Type */\n",
       ".cython .m { color: #666666 } /* Literal.Number */\n",
       ".cython .s { color: #BA2121 } /* Literal.String */\n",
       ".cython .na { color: #7D9029 } /* Name.Attribute */\n",
       ".cython .nb { color: #008000 } /* Name.Builtin */\n",
       ".cython .nc { color: #0000FF; font-weight: bold } /* Name.Class */\n",
       ".cython .no { color: #880000 } /* Name.Constant */\n",
       ".cython .nd { color: #AA22FF } /* Name.Decorator */\n",
       ".cython .ni { color: #999999; font-weight: bold } /* Name.Entity */\n",
       ".cython .ne { color: #D2413A; font-weight: bold } /* Name.Exception */\n",
       ".cython .nf { color: #0000FF } /* Name.Function */\n",
       ".cython .nl { color: #A0A000 } /* Name.Label */\n",
       ".cython .nn { color: #0000FF; font-weight: bold } /* Name.Namespace */\n",
       ".cython .nt { color: #008000; font-weight: bold } /* Name.Tag */\n",
       ".cython .nv { color: #19177C } /* Name.Variable */\n",
       ".cython .ow { color: #AA22FF; font-weight: bold } /* Operator.Word */\n",
       ".cython .w { color: #bbbbbb } /* Text.Whitespace */\n",
       ".cython .mb { color: #666666 } /* Literal.Number.Bin */\n",
       ".cython .mf { color: #666666 } /* Literal.Number.Float */\n",
       ".cython .mh { color: #666666 } /* Literal.Number.Hex */\n",
       ".cython .mi { color: #666666 } /* Literal.Number.Integer */\n",
       ".cython .mo { color: #666666 } /* Literal.Number.Oct */\n",
       ".cython .sa { color: #BA2121 } /* Literal.String.Affix */\n",
       ".cython .sb { color: #BA2121 } /* Literal.String.Backtick */\n",
       ".cython .sc { color: #BA2121 } /* Literal.String.Char */\n",
       ".cython .dl { color: #BA2121 } /* Literal.String.Delimiter */\n",
       ".cython .sd { color: #BA2121; font-style: italic } /* Literal.String.Doc */\n",
       ".cython .s2 { color: #BA2121 } /* Literal.String.Double */\n",
       ".cython .se { color: #BB6622; font-weight: bold } /* Literal.String.Escape */\n",
       ".cython .sh { color: #BA2121 } /* Literal.String.Heredoc */\n",
       ".cython .si { color: #BB6688; font-weight: bold } /* Literal.String.Interpol */\n",
       ".cython .sx { color: #008000 } /* Literal.String.Other */\n",
       ".cython .sr { color: #BB6688 } /* Literal.String.Regex */\n",
       ".cython .s1 { color: #BA2121 } /* Literal.String.Single */\n",
       ".cython .ss { color: #19177C } /* Literal.String.Symbol */\n",
       ".cython .bp { color: #008000 } /* Name.Builtin.Pseudo */\n",
       ".cython .fm { color: #0000FF } /* Name.Function.Magic */\n",
       ".cython .vc { color: #19177C } /* Name.Variable.Class */\n",
       ".cython .vg { color: #19177C } /* Name.Variable.Global */\n",
       ".cython .vi { color: #19177C } /* Name.Variable.Instance */\n",
       ".cython .vm { color: #19177C } /* Name.Variable.Magic */\n",
       ".cython .il { color: #666666 } /* Literal.Number.Integer.Long */\n",
       "    </style>\n",
       "</head>\n",
       "<body class=\"cython\">\n",
       "<p><span style=\"border-bottom: solid 1px grey;\">Generated by Cython 0.29.17</span></p>\n",
       "<p>\n",
       "    <span style=\"background-color: #FFFF00\">Yellow lines</span> hint at Python interaction.<br />\n",
       "    Click on a line that starts with a \"<code>+</code>\" to see the C code that Cython generated for it.\n",
       "</p>\n",
       "<div class=\"cython\"><pre class=\"cython line score-0\">&#xA0;<span class=\"\">01</span>: </pre>\n",
       "<pre class=\"cython line score-0\">&#xA0;<span class=\"\">02</span>: <span class=\"c\"># Cython code: note type declarations and cdef statements</span></pre>\n",
       "<pre class=\"cython line score-0\">&#xA0;<span class=\"\">03</span>: <span class=\"c\"># Cython alterations to source code are visible in the output window below</span></pre>\n",
       "<pre class=\"cython line score-0\">&#xA0;<span class=\"\">04</span>: </pre>\n",
       "<pre class=\"cython line score-27\" onclick=\"(function(s){s.display=s.display==='block'?'none':'block'})(this.nextElementSibling.style)\">+<span class=\"\">05</span>: <span class=\"k\">def</span> <span class=\"nf\">primes_cython</span><span class=\"p\">(</span><span class=\"nb\">int</span> <span class=\"n\">nb_primes</span><span class=\"p\">):</span></pre>\n",
       "<pre class='cython code score-27 '>/* Python wrapper */\n",
       "static PyObject *__pyx_pw_46_cython_magic_4aa45f6e93daece179769894cf9d3505_1primes_cython(PyObject *__pyx_self, PyObject *__pyx_arg_nb_primes); /*proto*/\n",
       "static PyMethodDef __pyx_mdef_46_cython_magic_4aa45f6e93daece179769894cf9d3505_1primes_cython = {\"primes_cython\", (PyCFunction)__pyx_pw_46_cython_magic_4aa45f6e93daece179769894cf9d3505_1primes_cython, METH_O, 0};\n",
       "static PyObject *__pyx_pw_46_cython_magic_4aa45f6e93daece179769894cf9d3505_1primes_cython(PyObject *__pyx_self, PyObject *__pyx_arg_nb_primes) {\n",
       "  int __pyx_v_nb_primes;\n",
       "  PyObject *__pyx_r = 0;\n",
       "  <span class='refnanny'>__Pyx_RefNannyDeclarations</span>\n",
       "  <span class='refnanny'>__Pyx_RefNannySetupContext</span>(\"primes_cython (wrapper)\", 0);\n",
       "  assert(__pyx_arg_nb_primes); {\n",
       "    __pyx_v_nb_primes = <span class='pyx_c_api'>__Pyx_PyInt_As_int</span>(__pyx_arg_nb_primes); if (unlikely((__pyx_v_nb_primes == (int)-1) &amp;&amp; <span class='py_c_api'>PyErr_Occurred</span>())) <span class='error_goto'>__PYX_ERR(0, 5, __pyx_L3_error)</span>\n",
       "  }\n",
       "  goto __pyx_L4_argument_unpacking_done;\n",
       "  __pyx_L3_error:;\n",
       "  <span class='pyx_c_api'>__Pyx_AddTraceback</span>(\"_cython_magic_4aa45f6e93daece179769894cf9d3505.primes_cython\", __pyx_clineno, __pyx_lineno, __pyx_filename);\n",
       "  <span class='refnanny'>__Pyx_RefNannyFinishContext</span>();\n",
       "  return NULL;\n",
       "  __pyx_L4_argument_unpacking_done:;\n",
       "  __pyx_r = __pyx_pf_46_cython_magic_4aa45f6e93daece179769894cf9d3505_primes_cython(__pyx_self, ((int)__pyx_v_nb_primes));\n",
       "\n",
       "  /* function exit code */\n",
       "  <span class='refnanny'>__Pyx_RefNannyFinishContext</span>();\n",
       "  return __pyx_r;\n",
       "}\n",
       "\n",
       "static PyObject *__pyx_pf_46_cython_magic_4aa45f6e93daece179769894cf9d3505_primes_cython(CYTHON_UNUSED PyObject *__pyx_self, int __pyx_v_nb_primes) {\n",
       "  int __pyx_v_n;\n",
       "  int __pyx_v_i;\n",
       "  int __pyx_v_len_p;\n",
       "  int __pyx_v_p[0x3E8];\n",
       "  PyObject *__pyx_v_result_as_list = NULL;\n",
       "  int __pyx_7genexpr__pyx_v_prime;\n",
       "  PyObject *__pyx_r = NULL;\n",
       "  <span class='refnanny'>__Pyx_RefNannyDeclarations</span>\n",
       "  <span class='refnanny'>__Pyx_RefNannySetupContext</span>(\"primes_cython\", 0);\n",
       "/* … */\n",
       "  /* function exit code */\n",
       "  __pyx_L1_error:;\n",
       "  <span class='pyx_macro_api'>__Pyx_XDECREF</span>(__pyx_t_5);\n",
       "  <span class='pyx_macro_api'>__Pyx_XDECREF</span>(__pyx_t_6);\n",
       "  <span class='pyx_c_api'>__Pyx_AddTraceback</span>(\"_cython_magic_4aa45f6e93daece179769894cf9d3505.primes_cython\", __pyx_clineno, __pyx_lineno, __pyx_filename);\n",
       "  __pyx_r = NULL;\n",
       "  __pyx_L0:;\n",
       "  <span class='pyx_macro_api'>__Pyx_XDECREF</span>(__pyx_v_result_as_list);\n",
       "  <span class='refnanny'>__Pyx_XGIVEREF</span>(__pyx_r);\n",
       "  <span class='refnanny'>__Pyx_RefNannyFinishContext</span>();\n",
       "  return __pyx_r;\n",
       "}\n",
       "/* … */\n",
       "  __pyx_tuple_ = <span class='py_c_api'>PyTuple_Pack</span>(8, __pyx_n_s_nb_primes, __pyx_n_s_nb_primes, __pyx_n_s_n, __pyx_n_s_i, __pyx_n_s_len_p, __pyx_n_s_p, __pyx_n_s_result_as_list, __pyx_n_s_prime);<span class='error_goto'> if (unlikely(!__pyx_tuple_)) __PYX_ERR(0, 5, __pyx_L1_error)</span>\n",
       "  <span class='refnanny'>__Pyx_GOTREF</span>(__pyx_tuple_);\n",
       "  <span class='refnanny'>__Pyx_GIVEREF</span>(__pyx_tuple_);\n",
       "/* … */\n",
       "  __pyx_t_1 = PyCFunction_NewEx(&amp;__pyx_mdef_46_cython_magic_4aa45f6e93daece179769894cf9d3505_1primes_cython, NULL, __pyx_n_s_cython_magic_4aa45f6e93daece179);<span class='error_goto'> if (unlikely(!__pyx_t_1)) __PYX_ERR(0, 5, __pyx_L1_error)</span>\n",
       "  <span class='refnanny'>__Pyx_GOTREF</span>(__pyx_t_1);\n",
       "  if (<span class='py_c_api'>PyDict_SetItem</span>(__pyx_d, __pyx_n_s_primes_cython, __pyx_t_1) &lt; 0) <span class='error_goto'>__PYX_ERR(0, 5, __pyx_L1_error)</span>\n",
       "  <span class='pyx_macro_api'>__Pyx_DECREF</span>(__pyx_t_1); __pyx_t_1 = 0;\n",
       "  __pyx_codeobj__2 = (PyObject*)<span class='pyx_c_api'>__Pyx_PyCode_New</span>(1, 0, 8, 0, CO_OPTIMIZED|CO_NEWLOCALS, __pyx_empty_bytes, __pyx_empty_tuple, __pyx_empty_tuple, __pyx_tuple_, __pyx_empty_tuple, __pyx_empty_tuple, __pyx_kp_s_Users_myers_ipython_cython__cyt, __pyx_n_s_primes_cython, 5, __pyx_empty_bytes);<span class='error_goto'> if (unlikely(!__pyx_codeobj__2)) __PYX_ERR(0, 5, __pyx_L1_error)</span>\n",
       "</pre><pre class=\"cython line score-0\">&#xA0;<span class=\"\">06</span>:     <span class=\"k\">cdef</span> <span class=\"kt\">int</span> <span class=\"nf\">n</span><span class=\"p\">,</span> <span class=\"nf\">i</span><span class=\"p\">,</span> <span class=\"nf\">len_p</span></pre>\n",
       "<pre class=\"cython line score-0\">&#xA0;<span class=\"\">07</span>:     <span class=\"k\">cdef</span> <span class=\"kt\">int</span> <span class=\"kt\">p</span>[1000]</pre>\n",
       "<pre class=\"cython line score-0\" onclick=\"(function(s){s.display=s.display==='block'?'none':'block'})(this.nextElementSibling.style)\">+<span class=\"\">08</span>:     <span class=\"k\">if</span> <span class=\"n\">nb_primes</span> <span class=\"o\">&gt;</span> <span class=\"mf\">1000</span><span class=\"p\">:</span></pre>\n",
       "<pre class='cython code score-0 '>  __pyx_t_1 = ((__pyx_v_nb_primes &gt; 0x3E8) != 0);\n",
       "  if (__pyx_t_1) {\n",
       "/* … */\n",
       "  }\n",
       "</pre><pre class=\"cython line score-0\" onclick=\"(function(s){s.display=s.display==='block'?'none':'block'})(this.nextElementSibling.style)\">+<span class=\"\">09</span>:         <span class=\"n\">nb_primes</span> <span class=\"o\">=</span> <span class=\"mf\">1000</span></pre>\n",
       "<pre class='cython code score-0 '>    __pyx_v_nb_primes = 0x3E8;\n",
       "</pre><pre class=\"cython line score-0\">&#xA0;<span class=\"\">10</span>: </pre>\n",
       "<pre class=\"cython line score-0\" onclick=\"(function(s){s.display=s.display==='block'?'none':'block'})(this.nextElementSibling.style)\">+<span class=\"\">11</span>:     <span class=\"n\">len_p</span> <span class=\"o\">=</span> <span class=\"mf\">0</span>  <span class=\"c\"># The current number of elements in p.</span></pre>\n",
       "<pre class='cython code score-0 '>  __pyx_v_len_p = 0;\n",
       "</pre><pre class=\"cython line score-0\" onclick=\"(function(s){s.display=s.display==='block'?'none':'block'})(this.nextElementSibling.style)\">+<span class=\"\">12</span>:     <span class=\"n\">n</span> <span class=\"o\">=</span> <span class=\"mf\">2</span></pre>\n",
       "<pre class='cython code score-0 '>  __pyx_v_n = 2;\n",
       "</pre><pre class=\"cython line score-0\" onclick=\"(function(s){s.display=s.display==='block'?'none':'block'})(this.nextElementSibling.style)\">+<span class=\"\">13</span>:     <span class=\"k\">while</span> <span class=\"n\">len_p</span> <span class=\"o\">&lt;</span> <span class=\"n\">nb_primes</span><span class=\"p\">:</span></pre>\n",
       "<pre class='cython code score-0 '>  while (1) {\n",
       "    __pyx_t_1 = ((__pyx_v_len_p &lt; __pyx_v_nb_primes) != 0);\n",
       "    if (!__pyx_t_1) break;\n",
       "</pre><pre class=\"cython line score-0\">&#xA0;<span class=\"\">14</span>:         <span class=\"c\"># Is n prime?</span></pre>\n",
       "<pre class=\"cython line score-0\" onclick=\"(function(s){s.display=s.display==='block'?'none':'block'})(this.nextElementSibling.style)\">+<span class=\"\">15</span>:         <span class=\"k\">for</span> <span class=\"n\">i</span> <span class=\"ow\">in</span> <span class=\"n\">p</span><span class=\"p\">[:</span><span class=\"n\">len_p</span><span class=\"p\">]:</span></pre>\n",
       "<pre class='cython code score-0 '>    __pyx_t_3 = (__pyx_v_p + __pyx_v_len_p);\n",
       "    for (__pyx_t_4 = __pyx_v_p; __pyx_t_4 &lt; __pyx_t_3; __pyx_t_4++) {\n",
       "      __pyx_t_2 = __pyx_t_4;\n",
       "      __pyx_v_i = (__pyx_t_2[0]);\n",
       "</pre><pre class=\"cython line score-5\" onclick=\"(function(s){s.display=s.display==='block'?'none':'block'})(this.nextElementSibling.style)\">+<span class=\"\">16</span>:             <span class=\"k\">if</span> <span class=\"n\">n</span> <span class=\"o\">%</span> <span class=\"n\">i</span> <span class=\"o\">==</span> <span class=\"mf\">0</span><span class=\"p\">:</span></pre>\n",
       "<pre class='cython code score-5 '>      if (unlikely(__pyx_v_i == 0)) {\n",
       "        <span class='py_c_api'>PyErr_SetString</span>(PyExc_ZeroDivisionError, \"integer division or modulo by zero\");\n",
       "        <span class='error_goto'>__PYX_ERR(0, 16, __pyx_L1_error)</span>\n",
       "      }\n",
       "      __pyx_t_1 = ((__Pyx_mod_int(__pyx_v_n, __pyx_v_i) == 0) != 0);\n",
       "      if (__pyx_t_1) {\n",
       "/* … */\n",
       "      }\n",
       "    }\n",
       "    /*else*/ {\n",
       "</pre><pre class=\"cython line score-0\" onclick=\"(function(s){s.display=s.display==='block'?'none':'block'})(this.nextElementSibling.style)\">+<span class=\"\">17</span>:                 <span class=\"k\">break</span></pre>\n",
       "<pre class='cython code score-0 '>        goto __pyx_L7_break;\n",
       "</pre><pre class=\"cython line score-0\">&#xA0;<span class=\"\">18</span>: </pre>\n",
       "<pre class=\"cython line score-0\">&#xA0;<span class=\"\">19</span>:         <span class=\"c\"># If no break occurred in the loop, we have a prime.</span></pre>\n",
       "<pre class=\"cython line score-0\">&#xA0;<span class=\"\">20</span>:         <span class=\"k\">else</span><span class=\"p\">:</span></pre>\n",
       "<pre class=\"cython line score-0\" onclick=\"(function(s){s.display=s.display==='block'?'none':'block'})(this.nextElementSibling.style)\">+<span class=\"\">21</span>:             <span class=\"n\">p</span><span class=\"p\">[</span><span class=\"n\">len_p</span><span class=\"p\">]</span> <span class=\"o\">=</span> <span class=\"n\">n</span></pre>\n",
       "<pre class='cython code score-0 '>      (__pyx_v_p[__pyx_v_len_p]) = __pyx_v_n;\n",
       "</pre><pre class=\"cython line score-0\" onclick=\"(function(s){s.display=s.display==='block'?'none':'block'})(this.nextElementSibling.style)\">+<span class=\"\">22</span>:             <span class=\"n\">len_p</span> <span class=\"o\">+=</span> <span class=\"mf\">1</span></pre>\n",
       "<pre class='cython code score-0 '>      __pyx_v_len_p = (__pyx_v_len_p + 1);\n",
       "    }\n",
       "    __pyx_L7_break:;\n",
       "</pre><pre class=\"cython line score-0\" onclick=\"(function(s){s.display=s.display==='block'?'none':'block'})(this.nextElementSibling.style)\">+<span class=\"\">23</span>:         <span class=\"n\">n</span> <span class=\"o\">+=</span> <span class=\"mf\">1</span></pre>\n",
       "<pre class='cython code score-0 '>    __pyx_v_n = (__pyx_v_n + 1);\n",
       "  }\n",
       "</pre><pre class=\"cython line score-0\">&#xA0;<span class=\"\">24</span>: </pre>\n",
       "<pre class=\"cython line score-0\">&#xA0;<span class=\"\">25</span>:     <span class=\"c\"># Let&#39;s return the result in a python list:</span></pre>\n",
       "<pre class=\"cython line score-10\" onclick=\"(function(s){s.display=s.display==='block'?'none':'block'})(this.nextElementSibling.style)\">+<span class=\"\">26</span>:     <span class=\"n\">result_as_list</span>  <span class=\"o\">=</span> <span class=\"p\">[</span><span class=\"n\">prime</span> <span class=\"k\">for</span> <span class=\"n\">prime</span> <span class=\"ow\">in</span> <span class=\"n\">p</span><span class=\"p\">[:</span><span class=\"n\">len_p</span><span class=\"p\">]]</span></pre>\n",
       "<pre class='cython code score-10 '>  { /* enter inner scope */\n",
       "    __pyx_t_5 = <span class='py_c_api'>PyList_New</span>(0);<span class='error_goto'> if (unlikely(!__pyx_t_5)) __PYX_ERR(0, 26, __pyx_L1_error)</span>\n",
       "    <span class='refnanny'>__Pyx_GOTREF</span>(__pyx_t_5);\n",
       "    __pyx_t_3 = (__pyx_v_p + __pyx_v_len_p);\n",
       "    for (__pyx_t_4 = __pyx_v_p; __pyx_t_4 &lt; __pyx_t_3; __pyx_t_4++) {\n",
       "      __pyx_t_2 = __pyx_t_4;\n",
       "      __pyx_7genexpr__pyx_v_prime = (__pyx_t_2[0]);\n",
       "      __pyx_t_6 = <span class='pyx_c_api'>__Pyx_PyInt_From_int</span>(__pyx_7genexpr__pyx_v_prime);<span class='error_goto'> if (unlikely(!__pyx_t_6)) __PYX_ERR(0, 26, __pyx_L1_error)</span>\n",
       "      <span class='refnanny'>__Pyx_GOTREF</span>(__pyx_t_6);\n",
       "      if (unlikely(<span class='pyx_c_api'>__Pyx_ListComp_Append</span>(__pyx_t_5, (PyObject*)__pyx_t_6))) <span class='error_goto'>__PYX_ERR(0, 26, __pyx_L1_error)</span>\n",
       "      <span class='pyx_macro_api'>__Pyx_DECREF</span>(__pyx_t_6); __pyx_t_6 = 0;\n",
       "    }\n",
       "  } /* exit inner scope */\n",
       "  __pyx_v_result_as_list = ((PyObject*)__pyx_t_5);\n",
       "  __pyx_t_5 = 0;\n",
       "</pre><pre class=\"cython line score-2\" onclick=\"(function(s){s.display=s.display==='block'?'none':'block'})(this.nextElementSibling.style)\">+<span class=\"\">27</span>:     <span class=\"k\">return</span> <span class=\"n\">result_as_list</span></pre>\n",
       "<pre class='cython code score-2 '>  <span class='pyx_macro_api'>__Pyx_XDECREF</span>(__pyx_r);\n",
       "  <span class='pyx_macro_api'>__Pyx_INCREF</span>(__pyx_v_result_as_list);\n",
       "  __pyx_r = __pyx_v_result_as_list;\n",
       "  goto __pyx_L0;\n",
       "</pre><pre class=\"cython line score-0\">&#xA0;<span class=\"\">28</span>: </pre>\n",
       "<pre class=\"cython line score-11\" onclick=\"(function(s){s.display=s.display==='block'?'none':'block'})(this.nextElementSibling.style)\">+<span class=\"\">29</span>: <span class=\"n\">cprimes100</span> <span class=\"o\">=</span> <span class=\"n\">primes_cython</span><span class=\"p\">(</span><span class=\"mf\">100</span><span class=\"p\">)</span></pre>\n",
       "<pre class='cython code score-11 '>  <span class='pyx_c_api'>__Pyx_GetModuleGlobalName</span>(__pyx_t_1, __pyx_n_s_primes_cython);<span class='error_goto'> if (unlikely(!__pyx_t_1)) __PYX_ERR(0, 29, __pyx_L1_error)</span>\n",
       "  <span class='refnanny'>__Pyx_GOTREF</span>(__pyx_t_1);\n",
       "  __pyx_t_2 = <span class='pyx_c_api'>__Pyx_PyObject_Call</span>(__pyx_t_1, __pyx_tuple__3, NULL);<span class='error_goto'> if (unlikely(!__pyx_t_2)) __PYX_ERR(0, 29, __pyx_L1_error)</span>\n",
       "  <span class='refnanny'>__Pyx_GOTREF</span>(__pyx_t_2);\n",
       "  <span class='pyx_macro_api'>__Pyx_DECREF</span>(__pyx_t_1); __pyx_t_1 = 0;\n",
       "  if (<span class='py_c_api'>PyDict_SetItem</span>(__pyx_d, __pyx_n_s_cprimes100, __pyx_t_2) &lt; 0) <span class='error_goto'>__PYX_ERR(0, 29, __pyx_L1_error)</span>\n",
       "  <span class='pyx_macro_api'>__Pyx_DECREF</span>(__pyx_t_2); __pyx_t_2 = 0;\n",
       "</pre><pre class=\"cython line score-6\" onclick=\"(function(s){s.display=s.display==='block'?'none':'block'})(this.nextElementSibling.style)\">+<span class=\"\">30</span>: <span class=\"k\">print</span><span class=\"p\">(</span><span class=\"n\">cprimes100</span><span class=\"p\">)</span></pre>\n",
       "<pre class='cython code score-6 '>  <span class='pyx_c_api'>__Pyx_GetModuleGlobalName</span>(__pyx_t_2, __pyx_n_s_cprimes100);<span class='error_goto'> if (unlikely(!__pyx_t_2)) __PYX_ERR(0, 30, __pyx_L1_error)</span>\n",
       "  <span class='refnanny'>__Pyx_GOTREF</span>(__pyx_t_2);\n",
       "  __pyx_t_1 = <span class='pyx_c_api'>__Pyx_PyObject_CallOneArg</span>(__pyx_builtin_print, __pyx_t_2);<span class='error_goto'> if (unlikely(!__pyx_t_1)) __PYX_ERR(0, 30, __pyx_L1_error)</span>\n",
       "  <span class='refnanny'>__Pyx_GOTREF</span>(__pyx_t_1);\n",
       "  <span class='pyx_macro_api'>__Pyx_DECREF</span>(__pyx_t_2); __pyx_t_2 = 0;\n",
       "  <span class='pyx_macro_api'>__Pyx_DECREF</span>(__pyx_t_1); __pyx_t_1 = 0;\n",
       "</pre></div></body></html>"
      ],
      "text/plain": [
       "<IPython.core.display.HTML object>"
      ]
     },
     "execution_count": 22,
     "metadata": {},
     "output_type": "execute_result"
    }
   ],
   "source": [
    "%%cython -a\n",
    "\n",
    "# Cython code: note type declarations and cdef statements\n",
    "# Cython alterations to source code are visible in the output window below\n",
    "\n",
    "def primes_cython(int nb_primes):\n",
    "    cdef int n, i, len_p\n",
    "    cdef int p[1000]\n",
    "    if nb_primes > 1000:\n",
    "        nb_primes = 1000\n",
    "\n",
    "    len_p = 0  # The current number of elements in p.\n",
    "    n = 2\n",
    "    while len_p < nb_primes:\n",
    "        # Is n prime?\n",
    "        for i in p[:len_p]:\n",
    "            if n % i == 0:\n",
    "                break\n",
    "\n",
    "        # If no break occurred in the loop, we have a prime.\n",
    "        else:\n",
    "            p[len_p] = n\n",
    "            len_p += 1\n",
    "        n += 1\n",
    "\n",
    "    # Let's return the result in a python list:\n",
    "    result_as_list  = [prime for prime in p[:len_p]]\n",
    "    return result_as_list\n",
    "\n",
    "cprimes100 = primes_cython(100)\n",
    "print(cprimes100)"
   ]
  },
  {
   "cell_type": "markdown",
   "metadata": {
    "slideshow": {
     "slide_type": "slide"
    }
   },
   "source": [
    "# Cython timing comparison"
   ]
  },
  {
   "cell_type": "code",
   "execution_count": 23,
   "metadata": {
    "slideshow": {
     "slide_type": "-"
    }
   },
   "outputs": [
    {
     "name": "stdout",
     "output_type": "stream",
     "text": [
      "392 µs ± 11 µs per loop (mean ± std. dev. of 7 runs, 1000 loops each)\n",
      "18 µs ± 213 ns per loop (mean ± std. dev. of 7 runs, 100000 loops each)\n"
     ]
    }
   ],
   "source": [
    "%timeit primes(100)\n",
    "\n",
    "%timeit primes_cython(100)"
   ]
  },
  {
   "cell_type": "markdown",
   "metadata": {},
   "source": [
    "# Multiprocessing with concurrent.futures"
   ]
  },
  {
   "cell_type": "code",
   "execution_count": 24,
   "metadata": {},
   "outputs": [],
   "source": [
    "%%do_not_run_in_jupyter\n",
    "\n",
    "# or, equivalently\n",
    "\n",
    "import concurrent.futures\n",
    "\n",
    "executor = concurrent.futures.ProcessPoolExecutor(max_workers=4)\n",
    "print(list(executor.map(f, range(100))))"
   ]
  },
  {
   "cell_type": "markdown",
   "metadata": {
    "slideshow": {
     "slide_type": "slide"
    }
   },
   "source": [
    "# More multiprocessing (from networkx docs)\n",
    "\n",
    "[Link to networkx page](https://networkx.github.io/documentation/stable/auto_examples/advanced/plot_parallel_betweenness.html#sphx-glr-download-auto-examples-advanced-plot-parallel-betweenness-py)"
   ]
  },
  {
   "cell_type": "code",
   "execution_count": 25,
   "metadata": {},
   "outputs": [],
   "source": [
    "%%code_for_illustration\n",
    "\n",
    "# just a subset of the code (download full example at link above to run)\n",
    "\n",
    "def _betmap(G_normalized_weight_sources_tuple):\n",
    "    return nx.betweenness_centrality_source(*G_normalized_weight_sources_tuple)\n",
    "\n",
    "def betweenness_centrality_parallel(G, processes=None):\n",
    "    \"\"\"Parallel betweenness centrality  function\"\"\"\n",
    "    p = Pool(processes=processes)\n",
    "    node_divisor = len(p._pool) * 4\n",
    "    node_chunks = list(chunks(G.nodes(), int(G.order() / node_divisor)))\n",
    "    num_chunks = len(node_chunks)\n",
    "    bt_sc = p.map(_betmap,\n",
    "                  zip([G] * num_chunks,\n",
    "                      [True] * num_chunks,\n",
    "                      [None] * num_chunks,\n",
    "                      node_chunks))\n",
    "\n",
    "    # Reduce the partial solutions\n",
    "    bt_c = bt_sc[0]\n",
    "    for bt in bt_sc[1:]:\n",
    "        for n in bt:\n",
    "            bt_c[n] += bt[n]\n",
    "    return bt_c"
   ]
  },
  {
   "cell_type": "markdown",
   "metadata": {
    "slideshow": {
     "slide_type": "slide"
    }
   },
   "source": [
    "# Collections and containers\n",
    "\n",
    "Use the right data structure for the job\n",
    "\n",
    "As with membership testing, computing set intersections is much faster using sets than lists"
   ]
  },
  {
   "cell_type": "code",
   "execution_count": 26,
   "metadata": {},
   "outputs": [
    {
     "name": "stdout",
     "output_type": "stream",
     "text": [
      "14.5 µs ± 129 ns per loop (mean ± std. dev. of 7 runs, 100000 loops each)\n",
      "38.3 ms ± 1.16 ms per loop (mean ± std. dev. of 7 runs, 10 loops each)\n"
     ]
    }
   ],
   "source": [
    "# item lookup is much faster for sets and dictionaries than for lists (for which lookup is O(N))\n",
    "\n",
    "set1 = set(range(0,1000))        # create a set with a bunch of numbers in it\n",
    "set2 = set(range(500,2000))     # create another set with a bunch of numbers in it\n",
    "isec = set1 & set2                # same as isec = set1.intersection(set2)\n",
    "\n",
    "list1 = list(range(0,1000))      # create a list with a bunch of numbers in it\n",
    "list2 = list(range(500,2000))   # create another list with a bunch of numbers in it\n",
    "isec = [e1 for e1 in list1 for e2 in list2 if e1==e2]    # uses list comprehensions\n",
    "\n",
    "%timeit set1 & set2\n",
    "%timeit [e1 for e1 in list1 for e2 in list2 if e1==e2]"
   ]
  },
  {
   "cell_type": "markdown",
   "metadata": {
    "slideshow": {
     "slide_type": "slide"
    }
   },
   "source": [
    "# Lazy evaluation\n",
    "\n",
    "* a strategy implemented in some programming languages whereby certain objects are not produced until they are needed\n",
    "* often used in conjunction with functions that produce collections of objects\n",
    "* if you only need to iterate over the items in a collection, you don't need to produce that entire collection\n",
    "\n",
    "Python provides a variety of mechanisms to support lazy evaluation:\n",
    "\n",
    "* generators: like functions, but maintain internal state and ```yield``` next value when called\n",
    "* dictionary views (keys and values)\n",
    "* range:   ```for i in range(N)```\n",
    "* zip:    ```pairs = zip(seq1, seq2)```\n",
    "* enumerate:    ```for i, val in enumerate(seq)```\n",
    "* open:    ```with open(filename, 'r') as f```"
   ]
  }
 ],
 "metadata": {
  "celltoolbar": "Slideshow",
  "kernelspec": {
   "display_name": "Python 3",
   "language": "python",
   "name": "python3"
  },
  "language_info": {
   "codemirror_mode": {
    "name": "ipython",
    "version": 3
   },
   "file_extension": ".py",
   "mimetype": "text/x-python",
   "name": "python",
   "nbconvert_exporter": "python",
   "pygments_lexer": "ipython3",
   "version": "3.8.2"
  },
  "rise": {
   "scroll": true,
   "transition": "appear"
  }
 },
 "nbformat": 4,
 "nbformat_minor": 2
}
